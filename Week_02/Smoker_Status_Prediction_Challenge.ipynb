{
  "cells": [
    {
      "cell_type": "markdown",
      "metadata": {
        "id": "SKzBo_NmCSMR"
      },
      "source": [
        "# Challenge of the Week\n",
        "---\n",
        "© 2023, Zaka AI, Inc. All Rights Reserved.\n",
        "## Case Study: Insurance Medical Cost Prediction\n",
        "\n",
        "**Objective:**\n",
        "\n",
        "In this exercise, you will explore a dataset of insurance data detailed below. You will build a model from scratch using Gradient Descent to predict the cost of treatment for individuals based on their age, sex, bmi and other information.\n",
        "\n",
        "\n",
        "## Dataset Description\n",
        "\n",
        "\n",
        "*   **age**: age of primary beneficiary\n",
        "*   **sex**: insurance contractor gender, female, male\n",
        "*   **bmi**: Body mass index, providing an understanding of body, weights that are relatively high or low relative to height,\n",
        "objective index of body weight (kg / m ^ 2) using the ratio of height to weight, ideally 18.5 to 24.9\n",
        "*   **children**: Number of children covered by health insurance / Number of dependents\n",
        "*   **smoker**: Smoking\n",
        "*   **region**: the beneficiary's residential area in the US, northeast, southeast, southwest, northwest.\n",
        "*   **charges**: Individual medical costs billed by health insurance"
      ]
    },
    {
      "cell_type": "markdown",
      "metadata": {
        "id": "5k7QqVknG5ya"
      },
      "source": [
        "## 1. Data Loading"
      ]
    },
    {
      "cell_type": "markdown",
      "metadata": {
        "id": "GfyJQMOnE_48"
      },
      "source": [
        "#### Import necessary python modules\n",
        "\n",
        "We will need the following libraries:\n",
        " - Numpy — for scientific computing (e.g., linear algebra (vectors & matrices)).\n",
        " - Pandas — providing high-performance, easy-to-use data reading, manipulation, and analysis.\n",
        " - Matplotlib — plotting & visualization.\n",
        " - scikit-learn — a tool for data mining and machine learning models. We need from this library the functions train_test_split and LinearRegression"
      ]
    },
    {
      "cell_type": "code",
      "execution_count": 35,
      "metadata": {
        "id": "u9nnDKPjAfGq"
      },
      "outputs": [],
      "source": [
        "#Test Your Zaka\n",
        "import numpy as np\n",
        "import pandas as pd\n",
        "import matplotlib.pyplot as plt\n",
        "from sklearn.model_selection import train_test_split\n",
        "from sklearn.linear_model import LinearRegression"
      ]
    },
    {
      "cell_type": "markdown",
      "metadata": {
        "id": "4LEivAvUHIE3"
      },
      "source": [
        "#### Read & visualize data\n",
        "You should have the dataset on a csv file. To load the data to our code, we use **pandas** module, more specifically, the **read_csv** function.\n",
        "Then display the head of your dataset"
      ]
    },
    {
      "cell_type": "code",
      "execution_count": 36,
      "metadata": {
        "colab": {
          "base_uri": "https://localhost:8080/",
          "height": 206
        },
        "id": "_hep8239AzVU",
        "outputId": "799968fa-7700-44f0-9e44-0af6f88b823b"
      },
      "outputs": [
        {
          "data": {
            "text/html": [
              "<div>\n",
              "<style scoped>\n",
              "    .dataframe tbody tr th:only-of-type {\n",
              "        vertical-align: middle;\n",
              "    }\n",
              "\n",
              "    .dataframe tbody tr th {\n",
              "        vertical-align: top;\n",
              "    }\n",
              "\n",
              "    .dataframe thead th {\n",
              "        text-align: right;\n",
              "    }\n",
              "</style>\n",
              "<table border=\"1\" class=\"dataframe\">\n",
              "  <thead>\n",
              "    <tr style=\"text-align: right;\">\n",
              "      <th></th>\n",
              "      <th>age</th>\n",
              "      <th>sex</th>\n",
              "      <th>bmi</th>\n",
              "      <th>children</th>\n",
              "      <th>smoker</th>\n",
              "      <th>region</th>\n",
              "      <th>charges</th>\n",
              "    </tr>\n",
              "  </thead>\n",
              "  <tbody>\n",
              "    <tr>\n",
              "      <th>0</th>\n",
              "      <td>19</td>\n",
              "      <td>female</td>\n",
              "      <td>27.900</td>\n",
              "      <td>0</td>\n",
              "      <td>yes</td>\n",
              "      <td>southwest</td>\n",
              "      <td>16884.92400</td>\n",
              "    </tr>\n",
              "    <tr>\n",
              "      <th>1</th>\n",
              "      <td>18</td>\n",
              "      <td>male</td>\n",
              "      <td>33.770</td>\n",
              "      <td>1</td>\n",
              "      <td>no</td>\n",
              "      <td>southeast</td>\n",
              "      <td>1725.55230</td>\n",
              "    </tr>\n",
              "    <tr>\n",
              "      <th>2</th>\n",
              "      <td>28</td>\n",
              "      <td>male</td>\n",
              "      <td>33.000</td>\n",
              "      <td>3</td>\n",
              "      <td>no</td>\n",
              "      <td>southeast</td>\n",
              "      <td>4449.46200</td>\n",
              "    </tr>\n",
              "    <tr>\n",
              "      <th>3</th>\n",
              "      <td>33</td>\n",
              "      <td>male</td>\n",
              "      <td>22.705</td>\n",
              "      <td>0</td>\n",
              "      <td>no</td>\n",
              "      <td>northwest</td>\n",
              "      <td>21984.47061</td>\n",
              "    </tr>\n",
              "    <tr>\n",
              "      <th>4</th>\n",
              "      <td>32</td>\n",
              "      <td>male</td>\n",
              "      <td>28.880</td>\n",
              "      <td>0</td>\n",
              "      <td>no</td>\n",
              "      <td>northwest</td>\n",
              "      <td>3866.85520</td>\n",
              "    </tr>\n",
              "  </tbody>\n",
              "</table>\n",
              "</div>"
            ],
            "text/plain": [
              "   age     sex     bmi  children smoker     region      charges\n",
              "0   19  female  27.900         0    yes  southwest  16884.92400\n",
              "1   18    male  33.770         1     no  southeast   1725.55230\n",
              "2   28    male  33.000         3     no  southeast   4449.46200\n",
              "3   33    male  22.705         0     no  northwest  21984.47061\n",
              "4   32    male  28.880         0     no  northwest   3866.85520"
            ]
          },
          "execution_count": 36,
          "metadata": {},
          "output_type": "execute_result"
        }
      ],
      "source": [
        "#Test Your Zaka\n",
        "df= pd.read_csv(r'C:\\Users\\user\\Courses & certifiations\\AcademyZaka\\Week 2\\challenge\\insurance.csv')\n",
        "df.head()"
      ]
    },
    {
      "cell_type": "markdown",
      "metadata": {
        "id": "qgIxvmAKhiqe"
      },
      "source": [
        "## 2. Exploratory Data Analysis\n",
        "\n",
        "Let's dig deeper & understand our data"
      ]
    },
    {
      "cell_type": "markdown",
      "metadata": {
        "id": "LbXDTkiQhzwq"
      },
      "source": [
        "**Task:** how many rows & columns in our dataset"
      ]
    },
    {
      "cell_type": "code",
      "execution_count": 37,
      "metadata": {
        "colab": {
          "base_uri": "https://localhost:8080/"
        },
        "id": "nUf0K_SMh1og",
        "outputId": "2bb07494-7f52-4599-b4fa-0a4c7736e442"
      },
      "outputs": [
        {
          "name": "stdout",
          "output_type": "stream",
          "text": [
            "there are 1338 rows and 7 columns in this dataframe\n"
          ]
        }
      ],
      "source": [
        "#Test Your Zaka\n",
        "r,c = df.shape\n",
        "print('there are',r,\"rows and\",c,\"columns in this dataframe\")"
      ]
    },
    {
      "cell_type": "markdown",
      "metadata": {
        "id": "rPqsS9S2B2M4"
      },
      "source": [
        "Use the function **info()**, to check:\n",
        " - data types (int, float, or object (e.g., string))\n",
        " - missing values\n",
        " - memory usage\n",
        " - number of rows and columns"
      ]
    },
    {
      "cell_type": "code",
      "execution_count": 38,
      "metadata": {
        "colab": {
          "base_uri": "https://localhost:8080/"
        },
        "id": "exWsHvXSA7nz",
        "outputId": "972e7f64-ec03-46a5-84da-3b3fd0945ab2"
      },
      "outputs": [
        {
          "name": "stdout",
          "output_type": "stream",
          "text": [
            "<class 'pandas.core.frame.DataFrame'>\n",
            "RangeIndex: 1338 entries, 0 to 1337\n",
            "Data columns (total 7 columns):\n",
            " #   Column    Non-Null Count  Dtype  \n",
            "---  ------    --------------  -----  \n",
            " 0   age       1338 non-null   int64  \n",
            " 1   sex       1338 non-null   object \n",
            " 2   bmi       1335 non-null   float64\n",
            " 3   children  1338 non-null   int64  \n",
            " 4   smoker    1338 non-null   object \n",
            " 5   region    1338 non-null   object \n",
            " 6   charges   1338 non-null   float64\n",
            "dtypes: float64(2), int64(2), object(3)\n",
            "memory usage: 73.3+ KB\n"
          ]
        }
      ],
      "source": [
        "#Test Your Zaka\n",
        "df.info()"
      ]
    },
    {
      "cell_type": "markdown",
      "metadata": {
        "id": "Kt2KsZa2B63T"
      },
      "source": [
        "Use the function **describe()** to can check the mean, standard deviation, maximum, and minimum of each numerical feature (column)"
      ]
    },
    {
      "cell_type": "code",
      "execution_count": 39,
      "metadata": {
        "colab": {
          "base_uri": "https://localhost:8080/",
          "height": 300
        },
        "id": "pifR8QwkA-DW",
        "outputId": "8fcac6da-69e4-4e9a-91db-430e0cf86f14"
      },
      "outputs": [
        {
          "data": {
            "text/html": [
              "<div>\n",
              "<style scoped>\n",
              "    .dataframe tbody tr th:only-of-type {\n",
              "        vertical-align: middle;\n",
              "    }\n",
              "\n",
              "    .dataframe tbody tr th {\n",
              "        vertical-align: top;\n",
              "    }\n",
              "\n",
              "    .dataframe thead th {\n",
              "        text-align: right;\n",
              "    }\n",
              "</style>\n",
              "<table border=\"1\" class=\"dataframe\">\n",
              "  <thead>\n",
              "    <tr style=\"text-align: right;\">\n",
              "      <th></th>\n",
              "      <th>age</th>\n",
              "      <th>bmi</th>\n",
              "      <th>children</th>\n",
              "      <th>charges</th>\n",
              "    </tr>\n",
              "  </thead>\n",
              "  <tbody>\n",
              "    <tr>\n",
              "      <th>count</th>\n",
              "      <td>1338.000000</td>\n",
              "      <td>1335.000000</td>\n",
              "      <td>1338.000000</td>\n",
              "      <td>1338.000000</td>\n",
              "    </tr>\n",
              "    <tr>\n",
              "      <th>mean</th>\n",
              "      <td>39.207025</td>\n",
              "      <td>30.661423</td>\n",
              "      <td>1.094918</td>\n",
              "      <td>13270.422265</td>\n",
              "    </tr>\n",
              "    <tr>\n",
              "      <th>std</th>\n",
              "      <td>14.049960</td>\n",
              "      <td>6.101038</td>\n",
              "      <td>1.205493</td>\n",
              "      <td>12110.011237</td>\n",
              "    </tr>\n",
              "    <tr>\n",
              "      <th>min</th>\n",
              "      <td>18.000000</td>\n",
              "      <td>15.960000</td>\n",
              "      <td>0.000000</td>\n",
              "      <td>1121.873900</td>\n",
              "    </tr>\n",
              "    <tr>\n",
              "      <th>25%</th>\n",
              "      <td>27.000000</td>\n",
              "      <td>26.302500</td>\n",
              "      <td>0.000000</td>\n",
              "      <td>4740.287150</td>\n",
              "    </tr>\n",
              "    <tr>\n",
              "      <th>50%</th>\n",
              "      <td>39.000000</td>\n",
              "      <td>30.400000</td>\n",
              "      <td>1.000000</td>\n",
              "      <td>9382.033000</td>\n",
              "    </tr>\n",
              "    <tr>\n",
              "      <th>75%</th>\n",
              "      <td>51.000000</td>\n",
              "      <td>34.687500</td>\n",
              "      <td>2.000000</td>\n",
              "      <td>16639.912515</td>\n",
              "    </tr>\n",
              "    <tr>\n",
              "      <th>max</th>\n",
              "      <td>64.000000</td>\n",
              "      <td>53.130000</td>\n",
              "      <td>5.000000</td>\n",
              "      <td>63770.428010</td>\n",
              "    </tr>\n",
              "  </tbody>\n",
              "</table>\n",
              "</div>"
            ],
            "text/plain": [
              "               age          bmi     children       charges\n",
              "count  1338.000000  1335.000000  1338.000000   1338.000000\n",
              "mean     39.207025    30.661423     1.094918  13270.422265\n",
              "std      14.049960     6.101038     1.205493  12110.011237\n",
              "min      18.000000    15.960000     0.000000   1121.873900\n",
              "25%      27.000000    26.302500     0.000000   4740.287150\n",
              "50%      39.000000    30.400000     1.000000   9382.033000\n",
              "75%      51.000000    34.687500     2.000000  16639.912515\n",
              "max      64.000000    53.130000     5.000000  63770.428010"
            ]
          },
          "execution_count": 39,
          "metadata": {},
          "output_type": "execute_result"
        }
      ],
      "source": [
        "#Test Your Zaka\n",
        "df.describe()"
      ]
    },
    {
      "cell_type": "markdown",
      "metadata": {
        "id": "cp4rE9yyjkua"
      },
      "source": [
        "#### Distribution of charges\n",
        "\n",
        "First, let's look at the distribution of charges. This will help us to know how much patients spend on treatment on average.\n",
        "To do this plot the histogram for the charges"
      ]
    },
    {
      "cell_type": "code",
      "execution_count": 40,
      "metadata": {
        "colab": {
          "base_uri": "https://localhost:8080/",
          "height": 469
        },
        "id": "A9VxLmCMjhtZ",
        "outputId": "c867a88a-a1f0-46e6-90ae-bda702ddfa15"
      },
      "outputs": [
        {
          "data": {
            "text/plain": [
              "Text(0.5, 1.0, 'distribution of charges for all ')"
            ]
          },
          "execution_count": 40,
          "metadata": {},
          "output_type": "execute_result"
        },
        {
          "data": {
            "image/png": "[encoded data removed]",
            "text/plain": [
              "<Figure size 640x480 with 1 Axes>"
            ]
          },
          "metadata": {},
          "output_type": "display_data"
        }
      ],
      "source": [
        "#Test Your Zaka\n",
        "plt.hist(df.charges)\n",
        "plt.title('distribution of charges for all ', color = 'g')"
      ]
    },
    {
      "cell_type": "markdown",
      "metadata": {
        "id": "-C6DoqLJkZaJ"
      },
      "source": [
        "#### Correlation between smoking and cost of treatment\n",
        "\n",
        "Let's see if smokers spend more or less on treatment than non-smokers!\n",
        "\n",
        "First, separate the dataset between 2: smokers and non_smokers, and then see how many smokers vs non-smokers we have."
      ]
    },
    {
      "cell_type": "code",
      "execution_count": 41,
      "metadata": {
        "colab": {
          "base_uri": "https://localhost:8080/"
        },
        "id": "2bYxq0B4m4eg",
        "outputId": "f6956192-306f-4bd8-bee7-47ef2fa45246"
      },
      "outputs": [
        {
          "name": "stdout",
          "output_type": "stream",
          "text": [
            "We have  1064 non smokers vs  274 smokers \n"
          ]
        }
      ],
      "source": [
        "#Test Your Zaka\n",
        "non_smokers = df[df.smoker == 'no']\n",
        "smokers = df[df.smoker == 'yes']\n",
        "print('We have ',non_smokers.shape[0], 'non smokers vs ',smokers.shape[0],'smokers ')\n"
      ]
    },
    {
      "cell_type": "markdown",
      "metadata": {
        "id": "0V4oPfA3nMqt"
      },
      "source": [
        "plot the distribution of charges for both smokers and non smokers"
      ]
    },
    {
      "cell_type": "code",
      "execution_count": 42,
      "metadata": {
        "colab": {
          "base_uri": "https://localhost:8080/",
          "height": 352
        },
        "id": "uwn0w9SKj9AZ",
        "outputId": "e9d5362e-36d6-4930-f1d7-20b62dca00fb"
      },
      "outputs": [
        {
          "data": {
            "text/plain": [
              "Text(0.5, 1.0, 'charges distribution for smokers, with avr =32050')"
            ]
          },
          "execution_count": 42,
          "metadata": {},
          "output_type": "execute_result"
        },
        {
          "data": {
            "image/png": "[encoded data removed]",
            "text/plain": [
              "<Figure size 1500x500 with 2 Axes>"
            ]
          },
          "metadata": {},
          "output_type": "display_data"
        }
      ],
      "source": [
        "#Test Your Zaka\n",
        "fig,(ax1,ax2) = plt.subplots(1,2,figsize=(15,5))\n",
        "\n",
        "ax1.hist(non_smokers.charges)\n",
        "non_smokers_char_av = non_smokers.charges.mean()\n",
        "ax1.set_title('charges distribution for non-smokers, with avr = '+ str(int(non_smokers_char_av)))\n",
        "\n",
        "ax2.hist(smokers.charges)\n",
        "smokers_char_av = smokers.charges.mean()\n",
        "ax2.set_title('charges distribution for smokers, with avr ='+ str(int(smokers_char_av)))"
      ]
    },
    {
      "cell_type": "markdown",
      "metadata": {
        "id": "9h3TXsFXVoKy"
      },
      "source": [
        "Who spends more on treatment? Smokers or non Smokers? \n",
        "\n",
        "**we can easily see how smokers are more likely to cause bigger costs with two peaks around 20,000 and 40,000 respectively, while the non-smokers are way less than that with only one peak around 2,800**"
      ]
    },
    {
      "cell_type": "markdown",
      "metadata": {
        "id": "z764ssFHV7KM"
      },
      "source": [
        "#### Correlation between age and cost of treatment\n",
        "\n",
        "First, plot the distribution of age in our dataset"
      ]
    },
    {
      "cell_type": "code",
      "execution_count": 43,
      "metadata": {
        "colab": {
          "base_uri": "https://localhost:8080/",
          "height": 0
        },
        "id": "G6Z5JkrLlEbV",
        "outputId": "04dad486-4ccc-4ace-ac34-b3a2cb4d7f23"
      },
      "outputs": [
        {
          "data": {
            "text/plain": [
              "Text(0.5, 1.0, 'age distribution')"
            ]
          },
          "execution_count": 43,
          "metadata": {},
          "output_type": "execute_result"
        },
        {
          "data": {
            "image/png": "[encoded data removed]",
            "text/plain": [
              "<Figure size 640x480 with 1 Axes>"
            ]
          },
          "metadata": {},
          "output_type": "display_data"
        }
      ],
      "source": [
        "#Test Your Zaka\n",
        "plt.hist(df.age)\n",
        "plt.title('age distribution')"
      ]
    },
    {
      "cell_type": "markdown",
      "metadata": {
        "id": "Y57UaJL_Wyyr"
      },
      "source": [
        "plot the correlation between age and cost of treatment"
      ]
    },
    {
      "cell_type": "code",
      "execution_count": 44,
      "metadata": {
        "colab": {
          "base_uri": "https://localhost:8080/",
          "height": 0
        },
        "id": "sGC1lp-yWaWz",
        "outputId": "31fea4d0-ca0a-48ef-e689-b7d6624b52ce"
      },
      "outputs": [
        {
          "data": {
            "text/plain": [
              "Text(0, 0.5, 'charges')"
            ]
          },
          "execution_count": 44,
          "metadata": {},
          "output_type": "execute_result"
        },
        {
          "data": {
            "image/png": "[encoded data removed]",
            "text/plain": [
              "<Figure size 640x480 with 1 Axes>"
            ]
          },
          "metadata": {},
          "output_type": "display_data"
        }
      ],
      "source": [
        "#Test Your Zaka\n",
        "plt.scatter(df.age , df.charges)\n",
        "plt.title('charges for different ages')\n",
        "plt.xlabel('ages')\n",
        "plt.ylabel('charges')"
      ]
    },
    {
      "cell_type": "markdown",
      "metadata": {
        "id": "5BvsdKyFcf2X"
      },
      "source": [
        "Let's check if smoking also affects this curve.\n",
        "\n",
        "**Task**: show a scatter plot with the correlation between age and cost of treatment while showing smokers in red and non-smokers in blue"
      ]
    },
    {
      "cell_type": "code",
      "execution_count": 45,
      "metadata": {
        "colab": {
          "base_uri": "https://localhost:8080/",
          "height": 0
        },
        "id": "VEcAVCLrcMEF",
        "outputId": "22a046aa-a802-4a10-e307-b402ad4ea25b"
      },
      "outputs": [
        {
          "data": {
            "text/plain": [
              "Text(0, 0.5, 'Charges')"
            ]
          },
          "execution_count": 45,
          "metadata": {},
          "output_type": "execute_result"
        },
        {
          "data": {
            "image/png": "[encoded data removed]",
            "text/plain": [
              "<Figure size 640x480 with 1 Axes>"
            ]
          },
          "metadata": {},
          "output_type": "display_data"
        }
      ],
      "source": [
        "#Test Your Zaka\n",
        "plt.scatter(smokers.age , smokers.charges, c = 'r', label = 'smoker' )\n",
        "plt.scatter(non_smokers.age , non_smokers.charges, c = 'g', label = 'non_smoker' )\n",
        "plt.legend()\n",
        "plt.xlabel('Age')\n",
        "plt.ylabel('Charges')"
      ]
    },
    {
      "cell_type": "markdown",
      "metadata": {
        "id": "NYL_dQSKgEER"
      },
      "source": [
        "#### Correlation between BMI and cost of treatment\n",
        "\n",
        "# Body Mass Index\n",
        "\n",
        "![alt text](https://4.bp.blogspot.com/-nBF9Z1tFGhI/W3MqbdD0j7I/AAAAAAAAAIs/UdyXTIxsBT8Pl8usABxEK_Fusj5S0SnBQCLcBGAs/s1600/HOW%2BTO%2BCALCULATE%2BBODY%2BMASS%2BINDEX%2BBMI.jpg)\n",
        "\n",
        "# BMI Chart\n",
        "\n",
        "![BMI char](https://images.squarespace-cdn.com/content/v1/56fae4be1d07c0c393d8faa5/1551103826935-HCXS8U78500C06GQ1PLJ/ke17ZwdGBToddI8pDm48kNMeyc_nGAbaGjp3EBJ2o08UqsxRUqqbr1mOJYKfIPR7LoDQ9mXPOjoJoqy81S2I8N_N4V1vUb5AoIIIbLZhVYxCRW4BPu10St3TBAUQYVKckzCNDuUMr1wTvf7-fqd2hrX5O2-_PoO3UJ2jNU1VzJbe6G9-F0r9BTATNUu-NBMy/BMI+Chart.jpg)\n",
        "\n",
        "First, plot the distribution of BMI in our dataset."
      ]
    },
    {
      "cell_type": "code",
      "execution_count": 46,
      "metadata": {
        "colab": {
          "base_uri": "https://localhost:8080/",
          "height": 0
        },
        "id": "h9EfbSkKYIlR",
        "outputId": "0494ac22-a9fd-4355-c8b4-8c9dda6dcbc3"
      },
      "outputs": [
        {
          "data": {
            "text/plain": [
              "Text(0.5, 1.0, 'BMI distribution')"
            ]
          },
          "execution_count": 46,
          "metadata": {},
          "output_type": "execute_result"
        },
        {
          "data": {
            "image/png": "[encoded data removed]",
            "text/plain": [
              "<Figure size 640x480 with 1 Axes>"
            ]
          },
          "metadata": {},
          "output_type": "display_data"
        }
      ],
      "source": [
        "#Test Your Zaka\n",
        "plt.hist(df.bmi)\n",
        "plt.title('BMI distribution')"
      ]
    },
    {
      "cell_type": "markdown",
      "metadata": {
        "id": "j-_7LOLyDrzw"
      },
      "source": [
        "According to the chart above, obesity starts at BMI = 30. Let's investigate the impact of BMI on cost of treatment.\n",
        "Separate the dataset between 4 datasets: one for obese, one for overweight, one for healthy, and one for underweight, and then, give the number of examples that we have for each of those classes."
      ]
    },
    {
      "cell_type": "code",
      "execution_count": 47,
      "metadata": {
        "colab": {
          "base_uri": "https://localhost:8080/"
        },
        "id": "q-lFGDOakFUT",
        "outputId": "0bacf966-8364-452d-eb43-1c47c4fd23b1"
      },
      "outputs": [
        {
          "name": "stdout",
          "output_type": "stream",
          "text": [
            "there are 15 underweight , 173 healthy , 314 overweight and 705 obese individuals in our dataset \n"
          ]
        }
      ],
      "source": [
        "#Test Your Zaka\n",
        "underweight = df[df.bmi < 18]\n",
        "healthy = df[(df.bmi >= 18) & (df.bmi <= 24)]\n",
        "overweight = df[(df.bmi >= 25) & (df.bmi <= 29)]\n",
        "obese = df[df.bmi >= 30]\n",
        "\n",
        "print('there are {} underweight , {} healthy , {} overweight and {} obese individuals in our dataset '.format(underweight.shape[0],healthy.shape[0],overweight.shape[0],obese.shape[0]) )"
      ]
    },
    {
      "cell_type": "markdown",
      "metadata": {
        "id": "vVLLEIcXEJsb"
      },
      "source": [
        "To compare, plot the distribution of charges for all 3 groups (obese, overweight and healthy) in 1 plot, while showing `obese` data in red, `overweight` data in yellow and `healthy` data in green."
      ]
    },
    {
      "cell_type": "code",
      "execution_count": 48,
      "metadata": {
        "colab": {
          "base_uri": "https://localhost:8080/",
          "height": 0
        },
        "id": "DXV1VtltgJFm",
        "outputId": "a3c9e8c9-60a5-4133-a314-309cc2b95065"
      },
      "outputs": [
        {
          "data": {
            "text/plain": [
              "Text(0, 0.5, 'Frequency')"
            ]
          },
          "execution_count": 48,
          "metadata": {},
          "output_type": "execute_result"
        },
        {
          "data": {
            "image/png": "[encoded data removed]",
            "text/plain": [
              "<Figure size 640x480 with 1 Axes>"
            ]
          },
          "metadata": {},
          "output_type": "display_data"
        }
      ],
      "source": [
        "#Test Your Zaka\n",
        "plt.hist(obese.charges , color='r', label= 'obese')\n",
        "plt.hist(overweight.charges , color='y', label ='overweight')\n",
        "plt.hist(healthy.charges , color= 'g', label='healthy')\n",
        "plt.legend()\n",
        "plt.title('Charges distribution')\n",
        "plt.xlabel('BMI')\n",
        "plt.ylabel('Frequency')"
      ]
    },
    {
      "cell_type": "markdown",
      "metadata": {
        "id": "DtB8jDMZnLcT"
      },
      "source": [
        "Patients with BMI above 30 spend more on treatment!"
      ]
    },
    {
      "cell_type": "markdown",
      "metadata": {
        "id": "g3X3fDBXnX16"
      },
      "source": [
        "## 3. Data Preprocessing\n",
        "\"Garbage in, garbage out\". \n",
        "\n",
        "Data should be preprocessed and cleaned to get rid of noisy data. \n",
        "Preprocessing includes:\n",
        " - dealing with missing data\n",
        "   - remove whole rows (if they are not a lot)\n",
        "   - infer (e.g., date of birth & age)\n",
        "   - fill with mean, median, or even 0\n",
        " - removing unsued column(s)\n",
        " - convert categorical (non numerical) data into numerical\n",
        " - normalization: standarize data ranges for all features (e.g., between 0 and 1)\n",
        "\n",
        "\n",
        "\n",
        "---\n",
        "\n",
        "\n",
        "\n",
        "Start by seeing how many missing data you have in each column"
      ]
    },
    {
      "cell_type": "code",
      "execution_count": 49,
      "metadata": {
        "colab": {
          "base_uri": "https://localhost:8080/"
        },
        "id": "mslOEw7wmf_N",
        "outputId": "f85e7223-534e-4478-e3f0-4a4e28cb64e3"
      },
      "outputs": [
        {
          "data": {
            "text/plain": [
              "age         0\n",
              "sex         0\n",
              "bmi         3\n",
              "children    0\n",
              "smoker      0\n",
              "region      0\n",
              "charges     0\n",
              "dtype: int64"
            ]
          },
          "execution_count": 49,
          "metadata": {},
          "output_type": "execute_result"
        }
      ],
      "source": [
        "#Test Your Zaka\n",
        "df.isnull().sum()"
      ]
    },
    {
      "cell_type": "markdown",
      "metadata": {
        "id": "kM729bhAlP2S"
      },
      "source": [
        "drop rows with missing values"
      ]
    },
    {
      "cell_type": "code",
      "execution_count": 50,
      "metadata": {
        "id": "ZXvduiy1nckz"
      },
      "outputs": [],
      "source": [
        "#Test Your Zaka\n",
        "df=df.dropna()"
      ]
    },
    {
      "cell_type": "markdown",
      "metadata": {
        "id": "XlGJsilglWuh"
      },
      "source": [
        "make sure you don't have any nulls using the info() function"
      ]
    },
    {
      "cell_type": "code",
      "execution_count": 51,
      "metadata": {
        "colab": {
          "base_uri": "https://localhost:8080/"
        },
        "id": "bSEzYUz-nevs",
        "outputId": "af332d0a-8cbe-4017-8bbe-7275a074821d"
      },
      "outputs": [
        {
          "name": "stdout",
          "output_type": "stream",
          "text": [
            "<class 'pandas.core.frame.DataFrame'>\n",
            "Index: 1335 entries, 0 to 1337\n",
            "Data columns (total 7 columns):\n",
            " #   Column    Non-Null Count  Dtype  \n",
            "---  ------    --------------  -----  \n",
            " 0   age       1335 non-null   int64  \n",
            " 1   sex       1335 non-null   object \n",
            " 2   bmi       1335 non-null   float64\n",
            " 3   children  1335 non-null   int64  \n",
            " 4   smoker    1335 non-null   object \n",
            " 5   region    1335 non-null   object \n",
            " 6   charges   1335 non-null   float64\n",
            "dtypes: float64(2), int64(2), object(3)\n",
            "memory usage: 83.4+ KB\n"
          ]
        }
      ],
      "source": [
        "#Test Your Zaka\n",
        "df.info()"
      ]
    },
    {
      "cell_type": "markdown",
      "metadata": {
        "id": "rT-M7TYitDT8"
      },
      "source": [
        "#### Remove unused columns\n",
        "\n",
        "Let's remove the `region` column since we don't really care about it"
      ]
    },
    {
      "cell_type": "code",
      "execution_count": 52,
      "metadata": {
        "colab": {
          "base_uri": "https://localhost:8080/"
        },
        "id": "YdCm-boktOto",
        "outputId": "ccbdc6ff-7911-42b0-e18b-09c9b615653e"
      },
      "outputs": [],
      "source": [
        "#Test Your Zaka\n",
        "df.drop('region',axis=1,inplace = True)"
      ]
    },
    {
      "cell_type": "markdown",
      "metadata": {
        "id": "VGcXlEP6ryIZ"
      },
      "source": [
        "#### Convert Categorical columns to numerical\n",
        "\n",
        "*   We need to convert the sex column from male/female to 0/1.\n",
        "*   We need to convert the smoker column from no/yes to 0/1.\n",
        "\n",
        "\n",
        "Let's start with the sex column\n",
        "\n"
      ]
    },
    {
      "cell_type": "code",
      "execution_count": 53,
      "metadata": {
        "id": "cpEbrz7HnfuY"
      },
      "outputs": [],
      "source": [
        "#Test Your Zaka\n",
        "gender= {'male' : 0 , 'female' : 1}\n",
        "df.sex = df.sex.apply(lambda x : gender[x])"
      ]
    },
    {
      "cell_type": "markdown",
      "metadata": {
        "id": "AuX-fpHesgmi"
      },
      "source": [
        "And now the smokers column"
      ]
    },
    {
      "cell_type": "code",
      "execution_count": 55,
      "metadata": {
        "id": "LfU8gCe7sCDS"
      },
      "outputs": [],
      "source": [
        "#Test Your Zaka\n",
        "smoking= {'no' : 0 , 'yes' : 1}\n",
        "df.smoker = df.smoker.apply(lambda x : smoking[x])"
      ]
    },
    {
      "cell_type": "markdown",
      "metadata": {
        "id": "uwfqKXYftiS-"
      },
      "source": [
        "#### Normalization\n",
        "\n",
        "Let's scale all the columns by dividing by the maximum"
      ]
    },
    {
      "cell_type": "markdown",
      "metadata": {
        "id": "N9qvYVaBlucK"
      },
      "source": [
        "First get the maximum of each column"
      ]
    },
    {
      "cell_type": "code",
      "execution_count": 56,
      "metadata": {
        "colab": {
          "base_uri": "https://localhost:8080/"
        },
        "id": "hJrBAhytsq8c",
        "outputId": "be74dcf1-37f7-4fc4-c97e-1591241b551a"
      },
      "outputs": [
        {
          "name": "stdout",
          "output_type": "stream",
          "text": [
            "age            64.00000\n",
            "sex             1.00000\n",
            "bmi            53.13000\n",
            "children        5.00000\n",
            "smoker          1.00000\n",
            "charges     63770.42801\n",
            "dtype: float64\n"
          ]
        }
      ],
      "source": [
        "#Test Your Zaka\n",
        "df_max = df.max()\n",
        "print(df_max)"
      ]
    },
    {
      "cell_type": "markdown",
      "metadata": {
        "id": "GUJhx5LHlyzk"
      },
      "source": [
        "Divide each column by its maximum value"
      ]
    },
    {
      "cell_type": "code",
      "execution_count": 59,
      "metadata": {
        "id": "oOxtgIjhu36f"
      },
      "outputs": [],
      "source": [
        "#Test Your Zaka\n",
        "df = df.divide(df_max)"
      ]
    },
    {
      "cell_type": "code",
      "execution_count": 60,
      "metadata": {
        "colab": {
          "base_uri": "https://localhost:8080/",
          "height": 206
        },
        "id": "ndhyjrWY7gi_",
        "outputId": "05cf67c7-4c13-4123-af3b-35a269ce019c"
      },
      "outputs": [
        {
          "data": {
            "text/html": [
              "<div>\n",
              "<style scoped>\n",
              "    .dataframe tbody tr th:only-of-type {\n",
              "        vertical-align: middle;\n",
              "    }\n",
              "\n",
              "    .dataframe tbody tr th {\n",
              "        vertical-align: top;\n",
              "    }\n",
              "\n",
              "    .dataframe thead th {\n",
              "        text-align: right;\n",
              "    }\n",
              "</style>\n",
              "<table border=\"1\" class=\"dataframe\">\n",
              "  <thead>\n",
              "    <tr style=\"text-align: right;\">\n",
              "      <th></th>\n",
              "      <th>age</th>\n",
              "      <th>sex</th>\n",
              "      <th>bmi</th>\n",
              "      <th>children</th>\n",
              "      <th>smoker</th>\n",
              "      <th>charges</th>\n",
              "    </tr>\n",
              "  </thead>\n",
              "  <tbody>\n",
              "    <tr>\n",
              "      <th>0</th>\n",
              "      <td>0.296875</td>\n",
              "      <td>1.0</td>\n",
              "      <td>0.525127</td>\n",
              "      <td>0.0</td>\n",
              "      <td>1.0</td>\n",
              "      <td>0.264777</td>\n",
              "    </tr>\n",
              "    <tr>\n",
              "      <th>1</th>\n",
              "      <td>0.281250</td>\n",
              "      <td>0.0</td>\n",
              "      <td>0.635611</td>\n",
              "      <td>0.2</td>\n",
              "      <td>0.0</td>\n",
              "      <td>0.027059</td>\n",
              "    </tr>\n",
              "    <tr>\n",
              "      <th>2</th>\n",
              "      <td>0.437500</td>\n",
              "      <td>0.0</td>\n",
              "      <td>0.621118</td>\n",
              "      <td>0.6</td>\n",
              "      <td>0.0</td>\n",
              "      <td>0.069773</td>\n",
              "    </tr>\n",
              "    <tr>\n",
              "      <th>3</th>\n",
              "      <td>0.515625</td>\n",
              "      <td>0.0</td>\n",
              "      <td>0.427348</td>\n",
              "      <td>0.0</td>\n",
              "      <td>0.0</td>\n",
              "      <td>0.344744</td>\n",
              "    </tr>\n",
              "    <tr>\n",
              "      <th>4</th>\n",
              "      <td>0.500000</td>\n",
              "      <td>0.0</td>\n",
              "      <td>0.543572</td>\n",
              "      <td>0.0</td>\n",
              "      <td>0.0</td>\n",
              "      <td>0.060637</td>\n",
              "    </tr>\n",
              "  </tbody>\n",
              "</table>\n",
              "</div>"
            ],
            "text/plain": [
              "        age  sex       bmi  children  smoker   charges\n",
              "0  0.296875  1.0  0.525127       0.0     1.0  0.264777\n",
              "1  0.281250  0.0  0.635611       0.2     0.0  0.027059\n",
              "2  0.437500  0.0  0.621118       0.6     0.0  0.069773\n",
              "3  0.515625  0.0  0.427348       0.0     0.0  0.344744\n",
              "4  0.500000  0.0  0.543572       0.0     0.0  0.060637"
            ]
          },
          "execution_count": 60,
          "metadata": {},
          "output_type": "execute_result"
        }
      ],
      "source": [
        "df.head()"
      ]
    },
    {
      "cell_type": "markdown",
      "metadata": {
        "id": "nwQPUuGy8vmw"
      },
      "source": [
        "## 4. MultiLinear Regression Model Training\n",
        "\n"
      ]
    },
    {
      "cell_type": "markdown",
      "metadata": {
        "id": "LTNYhHSpHezL"
      },
      "source": [
        "#### Data splits\n",
        "\n",
        "Before training, we need to split data into training (80%) & testing (20%) using a random_state of 42.\n",
        "Print the shape of your training and testing data."
      ]
    },
    {
      "cell_type": "code",
      "execution_count": null,
      "metadata": {
        "id": "CE241dTK9BY9"
      },
      "outputs": [],
      "source": [
        "# X = df.iloc[0:5,:].values\n",
        "# print(X)"
      ]
    },
    {
      "cell_type": "code",
      "execution_count": 61,
      "metadata": {
        "colab": {
          "base_uri": "https://localhost:8080/"
        },
        "id": "5n3DqBUG892K",
        "outputId": "293e7de6-55fe-4322-b735-f5e344b5566e"
      },
      "outputs": [
        {
          "name": "stdout",
          "output_type": "stream",
          "text": [
            "(1068, 5) (1068,)\n",
            "(267, 5) (267,)\n"
          ]
        }
      ],
      "source": [
        "#Test Your Zaka\n",
        "X = df.iloc[:,0:-1].values\n",
        "y = df.iloc[:,-1].values\n",
        "\n",
        "x_train,x_test,y_train,y_test = train_test_split(X,y,test_size=0.2,random_state=42)\n",
        "print(x_train.shape, y_train.shape)\n",
        "print(x_test.shape, y_test.shape)"
      ]
    },
    {
      "cell_type": "markdown",
      "metadata": {
        "id": "nnkHA8kR-dTV"
      },
      "source": [
        "### Optimization Using Gradient Descent"
      ]
    },
    {
      "cell_type": "markdown",
      "metadata": {
        "id": "U9pEqSLJAGHX"
      },
      "source": [
        "We remind you that this is a multi linear regression problem <br>\n",
        "* The equation is y = **a0** + **a1** * x1 + **a2** * x2 + **a3** * x3 + **a4** * x4 + **a5** * x5 <br>\n",
        "In other words, we have the following: <br>\n",
        "* charges = **a0** + **a1** * age + **a2** * sex + **a3** * bmi + **a4** * children + **a5** * smoker\n",
        "*   We call the numpy vector a the vector containing the parameters a = [a0, a1, a2, a3, a4, a5]\n",
        "* The goal is to find the best vector a\n"
      ]
    },
    {
      "cell_type": "markdown",
      "metadata": {
        "id": "4vQPYw3CmtQj"
      },
      "source": [
        "Implement the function Gradient_descent that has the following specifications. Beware of the naming of the variables"
      ]
    },
    {
      "cell_type": "code",
      "execution_count": 68,
      "metadata": {
        "id": "7WdDAPfcndLC"
      },
      "outputs": [],
      "source": [
        "def Gradient_descent (x, y, learning_rate, nb_iterations, initial_a):\n",
        "  \n",
        "  #Test Your Zaka\n",
        "  n= x.shape[0]\n",
        "  a0 , a1 , a2 , a3 , a4 , a5 = initial_a\n",
        "  X = [x[:,0] , x[:,1] , x[:,2] , x[:,3] , x[:,4]]\n",
        "  costs=[]\n",
        "\n",
        "  for i in range(nb_iterations) :\n",
        "    y_pred = a0 + a1*X[0] + a2*X[1] + a3*X[2] + a4*X[3] + a5*X[4]\n",
        "    costs.append(np.sum((y-y_pred)**2)/n)\n",
        "\n",
        "    if((np.sum((y-y_pred)**2)/n) <0.01):  #so that we don't have to wait all nb_iterations when we'll have reached our goal (1% cost)\n",
        "      break\n",
        "\n",
        "    a0_der = (-2/n)*np.sum(y-y_pred)\n",
        "    a1_der = (-2/n)*np.sum(X[0]*(y-y_pred))\n",
        "    a2_der = (-2/n)*np.sum(X[1]*(y-y_pred))\n",
        "    a3_der = (-2/n)*np.sum(X[2]*(y-y_pred))\n",
        "    a4_der = (-2/n)*np.sum(X[3]*(y-y_pred))\n",
        "    a5_der = (-2/n)*np.sum(X[4]*(y-y_pred))\n",
        "  #\n",
        "    a0= a0 - learning_rate*a0_der\n",
        "    a1= a1 - learning_rate*a1_der\n",
        "    a2= a2 - learning_rate*a2_der\n",
        "    a3= a3 - learning_rate*a3_der\n",
        "    a4= a4 - learning_rate*a4_der\n",
        "    a5= a5 - learning_rate*a5_der\n",
        "\n",
        "  return costs, np.array([a0, a1, a2, a3, a4, a5])"
      ]
    },
    {
      "cell_type": "markdown",
      "metadata": {
        "id": "lIM15LLfdti-"
      },
      "source": [
        "Now that we have the function ready, we can use it to obtain the optimum coefficient values, and use them for future predictions."
      ]
    },
    {
      "cell_type": "markdown",
      "metadata": {
        "id": "-jKEzwckpTzw"
      },
      "source": [
        "Initialize the number of iteration as 10000, and the learning rate as 0.1. Then write the model equation you obtained"
      ]
    },
    {
      "cell_type": "code",
      "execution_count": 69,
      "metadata": {
        "colab": {
          "base_uri": "https://localhost:8080/"
        },
        "id": "GP80P2_dd5Ar",
        "outputId": "18d64e46-d1c7-4a46-805e-1dabe9b97341"
      },
      "outputs": [
        {
          "name": "stdout",
          "output_type": "stream",
          "text": [
            "1177 iterations done\n",
            "[-0.32480721  0.25989912  0.01206474  0.48606738  0.04826339  0.36914979]\n",
            "the model equation is : \n",
            "Y = -0.3248072145160347 + 0.25989911733183957 X1 + 0.012064739969404431 X2 + 0.486067377791065 X3 + 0.04826339390593347 X4 + 0.36914978980057384 X5\n"
          ]
        }
      ],
      "source": [
        "#Test Your Zaka\n",
        "\n",
        "costs , a = Gradient_descent(x_train,y_train,0.1,10000,initial_a=[1,2,3,4,5,6])\n",
        "print(len(costs),'iterations done') #so we could know if it reaches the max nb_iterations OR NOT\n",
        "print(a)\n",
        "print('the model equation is : \\nY = {} + {} X1 + {} X2 + {} X3 + {} X4 + {} X5'.format(*a))\n",
        "# print(y_pred)"
      ]
    },
    {
      "cell_type": "markdown",
      "metadata": {
        "id": "Jxx2NFLSDlQa"
      },
      "source": [
        "Plot the cost function"
      ]
    },
    {
      "cell_type": "code",
      "execution_count": 75,
      "metadata": {
        "colab": {
          "base_uri": "https://localhost:8080/",
          "height": 447
        },
        "id": "3vwhJZnUDndB",
        "outputId": "23b228ec-ba79-4965-b00a-c93b23acf44e"
      },
      "outputs": [
        {
          "data": {
            "text/plain": [
              "[<matplotlib.lines.Line2D at 0x24909205510>]"
            ]
          },
          "execution_count": 75,
          "metadata": {},
          "output_type": "execute_result"
        },
        {
          "data": {
            "image/png": "[encoded data removed]",
            "text/plain": [
              "<Figure size 640x480 with 1 Axes>"
            ]
          },
          "metadata": {},
          "output_type": "display_data"
        }
      ],
      "source": [
        "#Test Your Zaka\n",
        "plt.plot(costs)"
      ]
    },
    {
      "cell_type": "markdown",
      "metadata": {
        "id": "IQvjlPFv-PVD"
      },
      "source": [
        "###Predicting Using Vectorized Gradient Descent"
      ]
    },
    {
      "cell_type": "markdown",
      "metadata": {
        "id": "LEBbE7lQ98qR"
      },
      "source": [
        "Of course you noted some redundancy in the Gradient Descent implementation, this is why we opt to use a vectorized notation that might be a bit more difficult, but the concept remains the same.\n",
        "This representation will be useful especially when your number of features starts to increase!"
      ]
    },
    {
      "cell_type": "code",
      "execution_count": 83,
      "metadata": {
        "id": "YgxG_GzBz2QC"
      },
      "outputs": [],
      "source": [
        "def Gradient_descent_vectorized (x, y, learning_rate, nb_iterations, initial_a):\n",
        "\n",
        "  #Test Your Zaka\n",
        "   n= x.shape[0]\n",
        "   a=initial_a\n",
        "   X=x.T\n",
        "   for i in range(nb_iterations) :\n",
        "    y_pred = a[0] + np.dot(a[1:],X)\n",
        "\n",
        "    if((np.sum((y-y_pred)**2)/n) <0.01):  #so that we don't have to wait all nb_iterations when we'll have reached our goal (1% cost)\n",
        "      break\n",
        "      \n",
        "    a0_der=(-2/n)*np.sum(y-y_pred)\n",
        "    a_der= np.insert((-2/n)*np.sum(X*(y-y_pred),axis=1),0,a0_der)\n",
        "    a =  a - learning_rate*(a_der)\n",
        "   return a \n"
      ]
    },
    {
      "cell_type": "markdown",
      "metadata": {
        "id": "Ov5QMHVBp9-V"
      },
      "source": [
        "Train your model using the vectorized notation with the same initializations that you did previously. Then write the equation you obtained for your model."
      ]
    },
    {
      "cell_type": "code",
      "execution_count": 93,
      "metadata": {},
      "outputs": [
        {
          "name": "stdout",
          "output_type": "stream",
          "text": [
            "X :\n",
            " [[0.37454012 0.95071431 0.73199394]\n",
            " [0.59865848 0.15601864 0.15599452]\n",
            " [0.05808361 0.86617615 0.60111501]\n",
            " [0.70807258 0.02058449 0.96990985]\n",
            " [0.83244264 0.21233911 0.18182497]]\n",
            "x : ((3, 5))\n",
            " [[0.37454012 0.59865848 0.05808361 0.70807258 0.83244264]\n",
            " [0.95071431 0.15601864 0.86617615 0.02058449 0.21233911]\n",
            " [0.73199394 0.15599452 0.60111501 0.96990985 0.18182497]]\n",
            "y : ((5,))\n",
            " [0.18340451 0.30424224 0.52475643 0.43194502 0.29122914]\n",
            "y_pred :\n",
            " [0.61185289 0.13949386 0.29214465 0.36636184 0.45606998]\n",
            "Derivative array shape: (3,)\n",
            "Derivative values: [0.05564602 0.08551903 0.0457831 ]\n"
          ]
        }
      ],
      "source": [
        "\n",
        "# Generating sample data\n",
        "np.random.seed(42)\n",
        "n = 5  # Number of data points\n",
        "m = 3  # Number of features\n",
        "X = np.random.rand(n, m)  # Features matrix\n",
        "print('X :\\n',X)\n",
        "\n",
        "x = X.T\n",
        "print(f'x : ({x.shape})\\n',x)\n",
        "\n",
        "y = np.random.rand(n)     # Target values\n",
        "print(f'y : ({y.shape})\\n',y)\n",
        "\n",
        "y_pred = np.random.rand(n)  # Predicted values\n",
        "print('y_pred :\\n',y_pred)\n",
        "\n",
        "# Calculating the derivative\n",
        "derivative = (-2/n)*np.sum(x*(y-y_pred), axis=1)\n",
        "\n",
        "print(\"Derivative array shape:\", derivative.shape)\n",
        "print(\"Derivative values:\", derivative)\n"
      ]
    },
    {
      "cell_type": "code",
      "execution_count": 84,
      "metadata": {
        "colab": {
          "base_uri": "https://localhost:8080/"
        },
        "id": "eDJf830c2VKp",
        "outputId": "63cca5dc-1775-4fb9-af22-cbf60bd109e1"
      },
      "outputs": [
        {
          "name": "stdout",
          "output_type": "stream",
          "text": [
            "the model equation is : \n",
            "Y = -0.32480721451603495 + 0.25989911733183957 X1 + 0.012064739969404447 X2 + 0.48606737779106535 X3 + 0.04826339390593346 X4 + 0.36914978980057384 X5\n",
            "[1.31765588e-04 1.11934296e-04 4.68861839e-03 1.13250568e-04\n",
            " 4.99521853e-05]\n"
          ]
        }
      ],
      "source": [
        "#Test Your Zaka\n",
        "a = Gradient_descent_vectorized(x_train,y_train,0.1,10000,initial_a=[1,2,3,4,5,6])\n",
        "print('the model equation is : \\nY = {} + {} X1 + {} X2 + {} X3 + {} X4 + {} X5'.format(*a))\n"
      ]
    },
    {
      "cell_type": "markdown",
      "metadata": {
        "id": "XPOrVwgZAaNA"
      },
      "source": [
        "You should obtain the same result as above."
      ]
    },
    {
      "cell_type": "markdown",
      "metadata": {
        "id": "4H4hqB3iMQg6"
      },
      "source": [
        "Write a function that you'll use to make predictions"
      ]
    },
    {
      "cell_type": "code",
      "execution_count": 97,
      "metadata": {},
      "outputs": [
        {
          "data": {
            "text/plain": [
              "age            64.00000\n",
              "sex             1.00000\n",
              "bmi            53.13000\n",
              "children        5.00000\n",
              "smoker          1.00000\n",
              "charges     63770.42801\n",
              "dtype: float64"
            ]
          },
          "execution_count": 97,
          "metadata": {},
          "output_type": "execute_result"
        }
      ],
      "source": [
        "df_max"
      ]
    },
    {
      "cell_type": "code",
      "execution_count": 98,
      "metadata": {
        "id": "39aurJCfL2l4"
      },
      "outputs": [],
      "source": [
        "def predict_medical_charges (a, x):\n",
        "\n",
        "  #Test Your Zaka\n",
        "  charges =(a[0] + np.dot(a[1:],x.T))*df_max[-1]\n",
        "\n",
        "  return charges"
      ]
    },
    {
      "cell_type": "markdown",
      "metadata": {
        "id": "SzD1NeQnN8zg"
      },
      "source": [
        "make a prediction of the medical charges on the first example we have in our training set"
      ]
    },
    {
      "cell_type": "code",
      "execution_count": 99,
      "metadata": {
        "colab": {
          "base_uri": "https://localhost:8080/"
        },
        "id": "cJXvIoQJOC4u",
        "outputId": "9524979f-789a-45db-bfeb-c2af1936df90"
      },
      "outputs": [
        {
          "data": {
            "text/plain": [
              "24794.707170082824"
            ]
          },
          "execution_count": 99,
          "metadata": {},
          "output_type": "execute_result"
        }
      ],
      "source": [
        "#Test Your Zaka\n",
        "predict_medical_charges(a,df.iloc[0,:-1])"
      ]
    },
    {
      "cell_type": "markdown",
      "metadata": {
        "id": "C3rGevdtH8xK"
      },
      "source": [
        "###Linear Regression Model Evaluation"
      ]
    },
    {
      "cell_type": "markdown",
      "metadata": {
        "id": "a4qgwJ9GJe3b"
      },
      "source": [
        "Now we will evaluate our model with the metrics that we studied during the course. In order to do so, we will calculate the predicted values on the test set."
      ]
    },
    {
      "cell_type": "code",
      "execution_count": 100,
      "metadata": {
        "id": "B9Js5Ix_KL_J"
      },
      "outputs": [],
      "source": [
        "#Test Your Zaka\n",
        "\n",
        "y_pred = predict_medical_charges(a,x_test)"
      ]
    },
    {
      "cell_type": "markdown",
      "metadata": {
        "id": "h5BDWqCZKSR2"
      },
      "source": [
        "Let's get the number of examples in the test set."
      ]
    },
    {
      "cell_type": "code",
      "execution_count": 101,
      "metadata": {
        "colab": {
          "base_uri": "https://localhost:8080/"
        },
        "id": "2yeK02pqKn3p",
        "outputId": "ccc4d3a5-50d4-4762-ca51-8b9d522c8994"
      },
      "outputs": [
        {
          "data": {
            "text/plain": [
              "267"
            ]
          },
          "execution_count": 101,
          "metadata": {},
          "output_type": "execute_result"
        }
      ],
      "source": [
        "#Test Your Zaka\n",
        "nb = len(y_pred)\n",
        "nb"
      ]
    },
    {
      "cell_type": "markdown",
      "metadata": {
        "id": "ce2Y8GelJPCc"
      },
      "source": [
        "####Mean Absolute Error (MAE)"
      ]
    },
    {
      "cell_type": "markdown",
      "metadata": {
        "id": "8LuDqKE-qoGo"
      },
      "source": [
        "Calculate the MAE between the predicted and the real values"
      ]
    },
    {
      "cell_type": "code",
      "execution_count": 102,
      "metadata": {
        "colab": {
          "base_uri": "https://localhost:8080/"
        },
        "id": "iDLHc5QvIA6C",
        "outputId": "742408c3-a0c2-4caa-9af6-a625ceed7af9"
      },
      "outputs": [
        {
          "data": {
            "text/plain": [
              "14582.53644992589"
            ]
          },
          "execution_count": 102,
          "metadata": {},
          "output_type": "execute_result"
        }
      ],
      "source": [
        "#Test Your Zaka\n",
        "mae = np.sum(np.abs(y_test-y_pred))/nb\n",
        "mae"
      ]
    },
    {
      "cell_type": "markdown",
      "metadata": {
        "id": "iBwf8xVfK-df"
      },
      "source": [
        "####Mean Squared Error (MSE)"
      ]
    },
    {
      "cell_type": "markdown",
      "metadata": {
        "id": "LsmlVGj4qsKw"
      },
      "source": [
        "Calculate the MSE"
      ]
    },
    {
      "cell_type": "code",
      "execution_count": 103,
      "metadata": {
        "colab": {
          "base_uri": "https://localhost:8080/"
        },
        "id": "d6W8fQf1LINY",
        "outputId": "f60584e1-4305-4644-b826-77c2c14bfcbe"
      },
      "outputs": [
        {
          "data": {
            "text/plain": [
              "339631521.1701952"
            ]
          },
          "execution_count": 103,
          "metadata": {},
          "output_type": "execute_result"
        }
      ],
      "source": [
        "#Test Your Zaka\n",
        "mse = np.sum((y_test-y_pred)**2)/nb\n",
        "mse"
      ]
    },
    {
      "cell_type": "markdown",
      "metadata": {
        "id": "tQE44o1wLVaY"
      },
      "source": [
        "####Root Mean Squared Error (RMSE)"
      ]
    },
    {
      "cell_type": "markdown",
      "metadata": {
        "id": "UfU4KUzTLYP_"
      },
      "source": [
        "This is just the root of the MSE that we computed. This is another metric we can look at to evaluate our regression models."
      ]
    },
    {
      "cell_type": "code",
      "execution_count": 104,
      "metadata": {
        "colab": {
          "base_uri": "https://localhost:8080/"
        },
        "id": "KO0xuraxLU62",
        "outputId": "ef355b51-a24e-4e86-c8fb-cb473fcd43ff"
      },
      "outputs": [
        {
          "data": {
            "text/plain": [
              "18429.09442078463"
            ]
          },
          "execution_count": 104,
          "metadata": {},
          "output_type": "execute_result"
        }
      ],
      "source": [
        "#Test Your Zaka\n",
        "rmse = np.sqrt(mse)\n",
        "rmse "
      ]
    },
    {
      "cell_type": "markdown",
      "metadata": {
        "id": "7dPqqZiT97Eg"
      },
      "source": [
        "### Prediction Using Scikit Learn Library\n"
      ]
    },
    {
      "cell_type": "markdown",
      "metadata": {
        "id": "j1_MDWZnAsbn"
      },
      "source": [
        "Now to validate the results that we got, we will use the scikit learn library to give us the values of the coefficients that we got using Gradient Descent.\n",
        "for this purpose, you have to build a linear regression mode, and fit it on the training data"
      ]
    },
    {
      "cell_type": "code",
      "execution_count": 105,
      "metadata": {
        "colab": {
          "base_uri": "https://localhost:8080/",
          "height": 75
        },
        "id": "CYUD8wNF9bm3",
        "outputId": "a4a65891-c03e-45bd-add5-8d7e002ddfa9"
      },
      "outputs": [
        {
          "data": {
            "text/html": [
              "<style>#sk-container-id-1 {color: black;}#sk-container-id-1 pre{padding: 0;}#sk-container-id-1 div.sk-toggleable {background-color: white;}#sk-container-id-1 label.sk-toggleable__label {cursor: pointer;display: block;width: 100%;margin-bottom: 0;padding: 0.3em;box-sizing: border-box;text-align: center;}#sk-container-id-1 label.sk-toggleable__label-arrow:before {content: \"▸\";float: left;margin-right: 0.25em;color: #696969;}#sk-container-id-1 label.sk-toggleable__label-arrow:hover:before {color: black;}#sk-container-id-1 div.sk-estimator:hover label.sk-toggleable__label-arrow:before {color: black;}#sk-container-id-1 div.sk-toggleable__content {max-height: 0;max-width: 0;overflow: hidden;text-align: left;background-color: #f0f8ff;}#sk-container-id-1 div.sk-toggleable__content pre {margin: 0.2em;color: black;border-radius: 0.25em;background-color: #f0f8ff;}#sk-container-id-1 input.sk-toggleable__control:checked~div.sk-toggleable__content {max-height: 200px;max-width: 100%;overflow: auto;}#sk-container-id-1 input.sk-toggleable__control:checked~label.sk-toggleable__label-arrow:before {content: \"▾\";}#sk-container-id-1 div.sk-estimator input.sk-toggleable__control:checked~label.sk-toggleable__label {background-color: #d4ebff;}#sk-container-id-1 div.sk-label input.sk-toggleable__control:checked~label.sk-toggleable__label {background-color: #d4ebff;}#sk-container-id-1 input.sk-hidden--visually {border: 0;clip: rect(1px 1px 1px 1px);clip: rect(1px, 1px, 1px, 1px);height: 1px;margin: -1px;overflow: hidden;padding: 0;position: absolute;width: 1px;}#sk-container-id-1 div.sk-estimator {font-family: monospace;background-color: #f0f8ff;border: 1px dotted black;border-radius: 0.25em;box-sizing: border-box;margin-bottom: 0.5em;}#sk-container-id-1 div.sk-estimator:hover {background-color: #d4ebff;}#sk-container-id-1 div.sk-parallel-item::after {content: \"\";width: 100%;border-bottom: 1px solid gray;flex-grow: 1;}#sk-container-id-1 div.sk-label:hover label.sk-toggleable__label {background-color: #d4ebff;}#sk-container-id-1 div.sk-serial::before {content: \"\";position: absolute;border-left: 1px solid gray;box-sizing: border-box;top: 0;bottom: 0;left: 50%;z-index: 0;}#sk-container-id-1 div.sk-serial {display: flex;flex-direction: column;align-items: center;background-color: white;padding-right: 0.2em;padding-left: 0.2em;position: relative;}#sk-container-id-1 div.sk-item {position: relative;z-index: 1;}#sk-container-id-1 div.sk-parallel {display: flex;align-items: stretch;justify-content: center;background-color: white;position: relative;}#sk-container-id-1 div.sk-item::before, #sk-container-id-1 div.sk-parallel-item::before {content: \"\";position: absolute;border-left: 1px solid gray;box-sizing: border-box;top: 0;bottom: 0;left: 50%;z-index: -1;}#sk-container-id-1 div.sk-parallel-item {display: flex;flex-direction: column;z-index: 1;position: relative;background-color: white;}#sk-container-id-1 div.sk-parallel-item:first-child::after {align-self: flex-end;width: 50%;}#sk-container-id-1 div.sk-parallel-item:last-child::after {align-self: flex-start;width: 50%;}#sk-container-id-1 div.sk-parallel-item:only-child::after {width: 0;}#sk-container-id-1 div.sk-dashed-wrapped {border: 1px dashed gray;margin: 0 0.4em 0.5em 0.4em;box-sizing: border-box;padding-bottom: 0.4em;background-color: white;}#sk-container-id-1 div.sk-label label {font-family: monospace;font-weight: bold;display: inline-block;line-height: 1.2em;}#sk-container-id-1 div.sk-label-container {text-align: center;}#sk-container-id-1 div.sk-container {/* jupyter's `normalize.less` sets `[hidden] { display: none; }` but bootstrap.min.css set `[hidden] { display: none !important; }` so we also need the `!important` here to be able to override the default hidden behavior on the sphinx rendered scikit-learn.org. See: https://github.com/scikit-learn/scikit-learn/issues/21755 */display: inline-block !important;position: relative;}#sk-container-id-1 div.sk-text-repr-fallback {display: none;}</style><div id=\"sk-container-id-1\" class=\"sk-top-container\"><div class=\"sk-text-repr-fallback\"><pre>LinearRegression()</pre><b>In a Jupyter environment, please rerun this cell to show the HTML representation or trust the notebook. <br />On GitHub, the HTML representation is unable to render, please try loading this page with nbviewer.org.</b></div><div class=\"sk-container\" hidden><div class=\"sk-item\"><div class=\"sk-estimator sk-toggleable\"><input class=\"sk-toggleable__control sk-hidden--visually\" id=\"sk-estimator-id-1\" type=\"checkbox\" checked><label for=\"sk-estimator-id-1\" class=\"sk-toggleable__label sk-toggleable__label-arrow\">LinearRegression</label><div class=\"sk-toggleable__content\"><pre>LinearRegression()</pre></div></div></div></div></div>"
            ],
            "text/plain": [
              "LinearRegression()"
            ]
          },
          "execution_count": 105,
          "metadata": {},
          "output_type": "execute_result"
        }
      ],
      "source": [
        "#Test Your Zaka\n",
        "model = LinearRegression()\n",
        "model.fit(x_train,y_train)"
      ]
    },
    {
      "cell_type": "markdown",
      "metadata": {
        "id": "aheCkvxXFb2B"
      },
      "source": [
        "####Features importance (Coefficients)\n"
      ]
    },
    {
      "cell_type": "markdown",
      "metadata": {
        "id": "qXca96BRq9pQ"
      },
      "source": [
        "Get the importance of each of your features, and compare the results with the ones you obtained in your gradient descent."
      ]
    },
    {
      "cell_type": "code",
      "execution_count": 106,
      "metadata": {
        "colab": {
          "base_uri": "https://localhost:8080/"
        },
        "id": "YIIDhnf-_AfG",
        "outputId": "50cfe51c-1664-420e-9800-a6834c2129aa"
      },
      "outputs": [
        {
          "name": "stdout",
          "output_type": "stream",
          "text": [
            "[0.25340124 0.00636305 0.24684219 0.04254233 0.3666139 ]\n",
            "[0.25989912 0.01206474 0.48606738 0.04826339 0.36914979]\n"
          ]
        }
      ],
      "source": [
        "#Test Your Zaka\n",
        "print(model.coef_)\n",
        "print(a[1:])"
      ]
    },
    {
      "cell_type": "markdown",
      "metadata": {
        "id": "HLfrhgC4_TrB"
      },
      "source": [
        "You should obtain the same coefficient values in the 3 approaches that we considered. Our computed values from GD are the same as the values that we got from sickit learn, which means the implementation was correct."
      ]
    },
    {
      "cell_type": "markdown",
      "metadata": {
        "id": "f-2KAmErMXtI"
      },
      "source": [
        "####Evaluation using Scikit learn"
      ]
    },
    {
      "cell_type": "markdown",
      "metadata": {
        "id": "dzi5gO0grNrS"
      },
      "source": [
        "Now we will compute the same metrics we computed earlier but using the sklearn library."
      ]
    },
    {
      "cell_type": "markdown",
      "metadata": {
        "id": "kp7AJYS6NNLw"
      },
      "source": [
        "We start by calculating the predicted values for this model."
      ]
    },
    {
      "cell_type": "code",
      "execution_count": 107,
      "metadata": {
        "id": "oYAULOi9NSN5"
      },
      "outputs": [],
      "source": [
        "#Test Your Zaka\n",
        "y_pred = model.predict(x_test)"
      ]
    },
    {
      "cell_type": "markdown",
      "metadata": {
        "id": "ZArgRM1TMgfA"
      },
      "source": [
        "Now we will evaluate the sklearn model using the sklearn library to get error metrics (MAE, MSE, RMSE)"
      ]
    },
    {
      "cell_type": "code",
      "execution_count": 108,
      "metadata": {
        "colab": {
          "base_uri": "https://localhost:8080/"
        },
        "id": "nM2yKf0FMsnM",
        "outputId": "104c3872-3f79-4157-a0c2-524f545789ac"
      },
      "outputs": [
        {
          "name": "stdout",
          "output_type": "stream",
          "text": [
            "0.0661370962155141\n",
            "0.008402410307189205\n",
            "0.09166466225972365\n"
          ]
        }
      ],
      "source": [
        "#Test Your Zaka\n",
        "from sklearn.metrics import mean_absolute_error as MAE ,mean_squared_error as MSE\n",
        "print(MAE(y_test,y_pred))\n",
        "print(MSE(y_test,y_pred))\n",
        "print(np.sqrt(MSE(y_test,y_pred)))"
      ]
    },
    {
      "cell_type": "markdown",
      "metadata": {
        "id": "UapHtjB9NkX9"
      },
      "source": [
        "the values should be so close to the ones we got from the model you built yourself."
      ]
    },
    {
      "cell_type": "markdown",
      "metadata": {
        "id": "6bxG8r5adBwI"
      },
      "source": [
        "Calculate the R2 value using the model.score() function"
      ]
    },
    {
      "cell_type": "code",
      "execution_count": 109,
      "metadata": {
        "colab": {
          "base_uri": "https://localhost:8080/"
        },
        "id": "DM6JisvgdDT-",
        "outputId": "bd883759-3488-46d1-8470-a05bcadfcf44"
      },
      "outputs": [
        {
          "name": "stdout",
          "output_type": "stream",
          "text": [
            "R2 Score: 0.8043792068989462\n"
          ]
        }
      ],
      "source": [
        "#Test Your Zaka\n",
        "r2 = model.score(x_test, y_test)\n",
        "print(\"R2 Score:\", r2)"
      ]
    },
    {
      "cell_type": "markdown",
      "metadata": {
        "id": "NpDNK7xkPPhY"
      },
      "source": [
        "\n",
        "\n",
        "---\n",
        "#Classification based on several features with Gradient Descent\n"
      ]
    },
    {
      "cell_type": "markdown",
      "metadata": {
        "id": "H-4YL519PXjV"
      },
      "source": [
        "Now, we will predict based on all the features that we have if the person is smoker or not a smoker, and we'll use GD as optimization tool.\n",
        "We'll follow the same steps as above."
      ]
    },
    {
      "cell_type": "markdown",
      "metadata": {
        "id": "wYhlpP_xRdD8"
      },
      "source": [
        "Split your data between training (80%) and testing (20%), and print the shapes of your training and testing data. Use random state of 42"
      ]
    },
    {
      "cell_type": "code",
      "execution_count": 110,
      "metadata": {
        "colab": {
          "base_uri": "https://localhost:8080/"
        },
        "id": "oKNFCcTY_wCl",
        "outputId": "7f538d57-ee59-4074-a1cc-ddc376d8ed7f"
      },
      "outputs": [
        {
          "data": {
            "text/plain": [
              "((1068, 5), (267, 5), (1068,), (267,))"
            ]
          },
          "execution_count": 110,
          "metadata": {},
          "output_type": "execute_result"
        }
      ],
      "source": [
        "#Test Your Zaka\n",
        "Xc = df.drop('smoker',axis=1).values\n",
        "Yc = df.smoker.values\n",
        "Xc_train,Xc_test,Yc_train,Yc_test = train_test_split(Xc,Yc,test_size=0.2,random_state=42)\n",
        "Xc_train.shape,Xc_test.shape,Yc_train.shape,Yc_test.shape\n"
      ]
    },
    {
      "cell_type": "markdown",
      "metadata": {
        "id": "fQu1JRu6R3Nb"
      },
      "source": [
        "##Optimization using Gradient Descent"
      ]
    },
    {
      "cell_type": "markdown",
      "metadata": {
        "id": "Xv-iaGtHR6hp"
      },
      "source": [
        "Now we will implement Gradient Descent to do this classification between smoker and non-smoker."
      ]
    },
    {
      "cell_type": "markdown",
      "metadata": {
        "id": "wrojdInlSBsZ"
      },
      "source": [
        "###Sigmoid Function"
      ]
    },
    {
      "cell_type": "markdown",
      "metadata": {
        "id": "jIhfDZS4SFId"
      },
      "source": [
        "start by implementing the sigmoid function"
      ]
    },
    {
      "cell_type": "code",
      "execution_count": 111,
      "metadata": {
        "id": "nskC8Dq6RwkO"
      },
      "outputs": [],
      "source": [
        "#Test Your Zaka\n",
        "def sigmoid(v):\n",
        "  return 1/(1+np.exp(-v))"
      ]
    },
    {
      "cell_type": "markdown",
      "metadata": {
        "id": "w3FAc3axST-7"
      },
      "source": [
        "Now, we start with Gradient Descent for classification."
      ]
    },
    {
      "cell_type": "markdown",
      "metadata": {
        "id": "1wxhNbz_SpnJ"
      },
      "source": [
        "We remind you that this is a classification based on several features <br>\n",
        "* The equation is y = sigmoid(**a0** + **a1** * x1 + **a2** * x2 + **a3** * x3 + **a4** * x4 + **a5** * x5) <br>\n",
        "In other words, we have the following: <br>\n",
        "* smoker = sigmoid(**a0** + **a1** * age + **a2** * sex + **a3** * bmi + **a4** * children + **a5** * charges)\n",
        "* This represents the probability of a person being smoker given the features that we mentioned. \n",
        "*   We call the numpy vector a the vector containing the parameters a = [a0, a1, a2, a3, a4, a5]\n",
        "* The goal is to find the best vector a\n",
        "\n",
        "Build the Gradient_descent_Classification function. Pay attention to the parameters provided."
      ]
    },
    {
      "cell_type": "code",
      "execution_count": 112,
      "metadata": {
        "id": "i-euParyrboW"
      },
      "outputs": [],
      "source": [
        "def Gradient_descent_classification (x, y, learning_rate, nb_iterations, initial_a):\n",
        "  #Test your Zaka\n",
        "  n= x.shape[0]\n",
        "  a0 , a1 , a2 , a3 , a4 , a5 = initial_a\n",
        "  X = [x[:,0] , x[:,1] , x[:,2] , x[:,3] , x[:,4]]\n",
        "  costs=[]\n",
        "\n",
        "  for i in range(nb_iterations) :\n",
        "    y_pred = sigmoid(a0 + np.dot([a1,a2,a3,a4,a5],X))\n",
        "   \n",
        "    co = (-1/n) * np.sum(y * np.log(y_pred) + (1 - y) * np.log(1 - y_pred))\n",
        "    costs.append(co)\n",
        "     \n",
        "    if(co <0.01):  #so that we don't have to wait all nb_iterations when we'll have reached our goal (1% cost)\n",
        "      break\n",
        "\n",
        "    a0_der = (-1/n)*np.sum(y-y_pred)\n",
        "    a1_der = (-1/n)*np.sum(X[0]*(y-y_pred))\n",
        "    a2_der = (-1/n)*np.sum(X[1]*(y-y_pred))\n",
        "    a3_der = (-1/n)*np.sum(X[2]*(y-y_pred))\n",
        "    a4_der = (-1/n)*np.sum(X[3]*(y-y_pred))\n",
        "    a5_der = (-1/n)*np.sum(X[4]*(y-y_pred))\n",
        "  #\n",
        "    a0= a0 - learning_rate*a0_der\n",
        "    a1= a1 - learning_rate*a1_der\n",
        "    a2= a2 - learning_rate*a2_der\n",
        "    a3= a3 - learning_rate*a3_der\n",
        "    a4= a4 - learning_rate*a4_der\n",
        "    a5= a5 - learning_rate*a5_der\n",
        "\n",
        "  return costs, np.array([a0, a1, a2, a3, a4, a5])"
      ]
    },
    {
      "cell_type": "code",
      "execution_count": 113,
      "metadata": {
        "id": "feyLXrIGSO4Q"
      },
      "outputs": [],
      "source": [
        "# def Gradient_descent_classification (x, y, learning_rate, nb_iterations, initial_a):\n",
        "  \n",
        "#   #Test Your Zaka\n",
        "#   n=x.shape[0]\n",
        "#   a=initial_a\n",
        "#   X=x.T\n",
        "#   costs=[]\n",
        "\n",
        "#   for i in range(nb_iterations):\n",
        "#      y_pred = sigmoid(a[0] + np.dot(a[1:],X))\n",
        "#      co = (-1/n) * np.sum(y * np.log(y_pred) + (1 - y) * np.log(1 - y_pred))\n",
        "#      costs.append(co)\n",
        "     \n",
        "#      if(co <0.01):  #so that we don't have to wait all nb_iterations when we'll have reached our goal (1% cost)\n",
        "#       break\n",
        "      \n",
        "#      a0_der=(-1/n)*np.sum(y-y_pred)\n",
        "#      a_der= np.insert((-1/n)*np.sum(X*(y-y_pred),axis=1),0,a0_der)\n",
        "#      a =  a - learning_rate*(a_der)\n",
        "\n",
        "\n",
        "#   return costs, np.array([a[0], a[1], a[2], a[3], a[4], a[5]])\n"
      ]
    },
    {
      "cell_type": "markdown",
      "metadata": {
        "id": "wVJFokztUsUb"
      },
      "source": [
        "Now, we will train our model. Set the number of iterations to 10000, the learning rate to 0.1, and print the equation of the model you obtained."
      ]
    },
    {
      "cell_type": "code",
      "execution_count": 123,
      "metadata": {
        "colab": {
          "base_uri": "https://localhost:8080/"
        },
        "id": "IaLa-i8eUjz9",
        "outputId": "992f28af-5395-4e4c-ac6a-cf30dddbc79c"
      },
      "outputs": [
        {
          "name": "stdout",
          "output_type": "stream",
          "text": [
            "[-1.45842823 -3.07907658 -0.24019604 -2.62498717 -0.45172451 13.69866278]\n",
            "10000\n"
          ]
        }
      ],
      "source": [
        "#Test Your Zaka\n",
        "costs ,b = Gradient_descent_classification (Xc_train, Yc_train, 0.1, 10000, initial_a=np.array([1,2,3,4,5,6]))\n",
        "# print(costs)\n",
        "print(b)\n",
        "print(len(costs))"
      ]
    },
    {
      "cell_type": "markdown",
      "metadata": {
        "id": "QTfWvLPiOMxe"
      },
      "source": [
        "Plot the cost function"
      ]
    },
    {
      "cell_type": "code",
      "execution_count": 115,
      "metadata": {
        "colab": {
          "base_uri": "https://localhost:8080/",
          "height": 447
        },
        "id": "1nCnG2CLOOUY",
        "outputId": "98f47efb-37d0-4f22-a73f-6f1acb56be26"
      },
      "outputs": [
        {
          "data": {
            "text/plain": [
              "[<matplotlib.lines.Line2D at 0x2490bf43450>]"
            ]
          },
          "execution_count": 115,
          "metadata": {},
          "output_type": "execute_result"
        },
        {
          "data": {
            "image/png": "[encoded data removed]",
            "text/plain": [
              "<Figure size 640x480 with 1 Axes>"
            ]
          },
          "metadata": {},
          "output_type": "display_data"
        }
      ],
      "source": [
        "#Test Your Zaka\n",
        "plt.plot(costs)"
      ]
    },
    {
      "cell_type": "markdown",
      "metadata": {
        "id": "y_vhtrV2_0bK"
      },
      "source": [
        "Now to predict we implement the following function that takes multiple examples in one numpy array x, and the parameters a, and gives back the prediction made for each example.\n",
        "<br>**Reminder:** If the output of the sigmoid function is >0.5, we consider the output is 1, otherwise, we consider it 0"
      ]
    },
    {
      "cell_type": "code",
      "execution_count": 116,
      "metadata": {
        "id": "psgUymxu_3ui"
      },
      "outputs": [],
      "source": [
        "def predict_smoker(x, a):\n",
        "  \n",
        "  #Test Your Zaka\n",
        "  rs=sigmoid(a[0] + np.dot(a[1:],x.T))\n",
        "  result=[]\n",
        "  for x in rs :\n",
        "    if x>0.5:\n",
        "      result.append(1)\n",
        "    else:\n",
        "      result.append(0)\n",
        "\n",
        "  return result"
      ]
    },
    {
      "cell_type": "markdown",
      "metadata": {
        "id": "vscBj6pvtd8S"
      },
      "source": [
        "Make predictions on your test data using the predict_smoker: Compute the predictions associated with your test set"
      ]
    },
    {
      "cell_type": "code",
      "execution_count": 117,
      "metadata": {
        "id": "nyEqsVz8A4tU"
      },
      "outputs": [
        {
          "data": {
            "text/plain": [
              "[0,\n",
              " 0,\n",
              " 0,\n",
              " 1,\n",
              " 0,\n",
              " 0,\n",
              " 1,\n",
              " 0,\n",
              " 0,\n",
              " 0,\n",
              " 0,\n",
              " 0,\n",
              " 1,\n",
              " 0,\n",
              " 0,\n",
              " 0,\n",
              " 0,\n",
              " 1,\n",
              " 0,\n",
              " 0,\n",
              " 0,\n",
              " 0,\n",
              " 0,\n",
              " 0,\n",
              " 0,\n",
              " 0,\n",
              " 0,\n",
              " 0,\n",
              " 0,\n",
              " 0,\n",
              " 0,\n",
              " 0,\n",
              " 0,\n",
              " 0,\n",
              " 1,\n",
              " 1,\n",
              " 0,\n",
              " 0,\n",
              " 0,\n",
              " 0,\n",
              " 0,\n",
              " 0,\n",
              " 1,\n",
              " 0,\n",
              " 0,\n",
              " 0,\n",
              " 0,\n",
              " 0,\n",
              " 0,\n",
              " 0,\n",
              " 0,\n",
              " 0,\n",
              " 0,\n",
              " 0,\n",
              " 0,\n",
              " 0,\n",
              " 0,\n",
              " 1,\n",
              " 1,\n",
              " 0,\n",
              " 0,\n",
              " 0,\n",
              " 0,\n",
              " 0,\n",
              " 0,\n",
              " 0,\n",
              " 0,\n",
              " 0,\n",
              " 0,\n",
              " 1,\n",
              " 0,\n",
              " 0,\n",
              " 0,\n",
              " 0,\n",
              " 0,\n",
              " 0,\n",
              " 0,\n",
              " 0,\n",
              " 1,\n",
              " 1,\n",
              " 0,\n",
              " 0,\n",
              " 0,\n",
              " 0,\n",
              " 1,\n",
              " 0,\n",
              " 0,\n",
              " 0,\n",
              " 0,\n",
              " 0,\n",
              " 0,\n",
              " 0,\n",
              " 0,\n",
              " 1,\n",
              " 0,\n",
              " 0,\n",
              " 0,\n",
              " 0,\n",
              " 1,\n",
              " 0,\n",
              " 0,\n",
              " 0,\n",
              " 0,\n",
              " 0,\n",
              " 1,\n",
              " 0,\n",
              " 1,\n",
              " 0,\n",
              " 0,\n",
              " 0,\n",
              " 0,\n",
              " 0,\n",
              " 0,\n",
              " 0,\n",
              " 0,\n",
              " 0,\n",
              " 0,\n",
              " 0,\n",
              " 0,\n",
              " 0,\n",
              " 0,\n",
              " 0,\n",
              " 0,\n",
              " 1,\n",
              " 0,\n",
              " 0,\n",
              " 0,\n",
              " 1,\n",
              " 1,\n",
              " 1,\n",
              " 0,\n",
              " 0,\n",
              " 0,\n",
              " 0,\n",
              " 0,\n",
              " 0,\n",
              " 0,\n",
              " 0,\n",
              " 0,\n",
              " 0,\n",
              " 0,\n",
              " 0,\n",
              " 1,\n",
              " 0,\n",
              " 0,\n",
              " 0,\n",
              " 0,\n",
              " 0,\n",
              " 0,\n",
              " 1,\n",
              " 0,\n",
              " 1,\n",
              " 0,\n",
              " 0,\n",
              " 0,\n",
              " 0,\n",
              " 0,\n",
              " 0,\n",
              " 0,\n",
              " 0,\n",
              " 0,\n",
              " 0,\n",
              " 1,\n",
              " 1,\n",
              " 1,\n",
              " 1,\n",
              " 0,\n",
              " 0,\n",
              " 0,\n",
              " 0,\n",
              " 0,\n",
              " 1,\n",
              " 0,\n",
              " 0,\n",
              " 0,\n",
              " 1,\n",
              " 0,\n",
              " 0,\n",
              " 0,\n",
              " 0,\n",
              " 1,\n",
              " 0,\n",
              " 1,\n",
              " 0,\n",
              " 0,\n",
              " 0,\n",
              " 1,\n",
              " 0,\n",
              " 0,\n",
              " 1,\n",
              " 0,\n",
              " 0,\n",
              " 0,\n",
              " 0,\n",
              " 0,\n",
              " 0,\n",
              " 1,\n",
              " 0,\n",
              " 0,\n",
              " 0,\n",
              " 1,\n",
              " 0,\n",
              " 0,\n",
              " 0,\n",
              " 0,\n",
              " 0,\n",
              " 0,\n",
              " 0,\n",
              " 0,\n",
              " 1,\n",
              " 0,\n",
              " 0,\n",
              " 0,\n",
              " 0,\n",
              " 0,\n",
              " 0,\n",
              " 0,\n",
              " 0,\n",
              " 0,\n",
              " 0,\n",
              " 0,\n",
              " 1,\n",
              " 0,\n",
              " 0,\n",
              " 0,\n",
              " 1,\n",
              " 1,\n",
              " 0,\n",
              " 0,\n",
              " 0,\n",
              " 0,\n",
              " 1,\n",
              " 0,\n",
              " 0,\n",
              " 0,\n",
              " 0,\n",
              " 1,\n",
              " 0,\n",
              " 0,\n",
              " 0,\n",
              " 0,\n",
              " 0,\n",
              " 0,\n",
              " 0,\n",
              " 0,\n",
              " 0,\n",
              " 0,\n",
              " 0,\n",
              " 0,\n",
              " 0,\n",
              " 0,\n",
              " 1,\n",
              " 1,\n",
              " 0,\n",
              " 0,\n",
              " 0,\n",
              " 0,\n",
              " 1,\n",
              " 0,\n",
              " 0,\n",
              " 1,\n",
              " 1,\n",
              " 0,\n",
              " 0,\n",
              " 0,\n",
              " 0,\n",
              " 0]"
            ]
          },
          "execution_count": 117,
          "metadata": {},
          "output_type": "execute_result"
        }
      ],
      "source": [
        "#Test Your Zaka\n",
        "predict_smoker(Xc_test,b)\n"
      ]
    },
    {
      "cell_type": "markdown",
      "metadata": {
        "id": "UH_3wnGBFwKb"
      },
      "source": [
        "##Classifier Evaluation"
      ]
    },
    {
      "cell_type": "markdown",
      "metadata": {
        "id": "LPZKVpvptie4"
      },
      "source": [
        "Now you will evaluate your classifier"
      ]
    },
    {
      "cell_type": "markdown",
      "metadata": {
        "id": "IbSnkaDOGnIl"
      },
      "source": [
        "###Accuracy Score"
      ]
    },
    {
      "cell_type": "markdown",
      "metadata": {
        "id": "vIqHp7vxtr2n"
      },
      "source": [
        "Compute the accuracy score of your classifier"
      ]
    },
    {
      "cell_type": "code",
      "execution_count": 118,
      "metadata": {
        "colab": {
          "base_uri": "https://localhost:8080/"
        },
        "id": "njQiaNjJGp0J",
        "outputId": "032fcaf8-4520-421a-f060-4e8300080c7e"
      },
      "outputs": [
        {
          "name": "stdout",
          "output_type": "stream",
          "text": [
            "the accuracy score of our classifier is 90.2621722846442 %\n"
          ]
        }
      ],
      "source": [
        "#Test Your Zaka\n",
        "y_real = Yc_test\n",
        "y_pred = predict_smoker(Xc_test,b)\n",
        "n = y_real.shape[0]\n",
        "\n",
        "y_wrong = np.count_nonzero(y_real - y_pred, axis = 0)\n",
        "y_correct = n - y_wrong\n",
        "\n",
        "accuracy = float(y_correct)*100/n\n",
        "\n",
        "print('the accuracy score of our classifier is',accuracy,'%')"
      ]
    },
    {
      "cell_type": "markdown",
      "metadata": {
        "id": "FpeaJXMWHGX5"
      },
      "source": [
        "###Confusion Matrix"
      ]
    },
    {
      "cell_type": "markdown",
      "metadata": {
        "id": "zIVqihfTtwCx"
      },
      "source": [
        "Compute the decision matrix for your classifier"
      ]
    },
    {
      "cell_type": "code",
      "execution_count": 119,
      "metadata": {
        "colab": {
          "base_uri": "https://localhost:8080/"
        },
        "id": "tVoH9BEDHIrL",
        "outputId": "5eb283ce-f197-40bf-d222-cd2f959668a1"
      },
      "outputs": [
        {
          "name": "stdout",
          "output_type": "stream",
          "text": [
            "Confusion Matrix :\n",
            "[[198   4]\n",
            " [ 22  43]]\n"
          ]
        }
      ],
      "source": [
        "#Test Your Zaka\n",
        "from sklearn.metrics import confusion_matrix\n",
        "\n",
        "conf = confusion_matrix(y_real, y_pred)\n",
        "\n",
        "print(\"Confusion Matrix :\")\n",
        "print(conf)"
      ]
    }
  ],
  "metadata": {
    "colab": {
      "collapsed_sections": [
        "5k7QqVknG5ya",
        "GfyJQMOnE_48",
        "qgIxvmAKhiqe",
        "z764ssFHV7KM",
        "NYL_dQSKgEER",
        "g3X3fDBXnX16",
        "VGcXlEP6ryIZ"
      ],
      "provenance": [],
      "toc_visible": true
    },
    "kernelspec": {
      "display_name": "Python 3",
      "name": "python3"
    },
    "language_info": {
      "codemirror_mode": {
        "name": "ipython",
        "version": 3
      },
      "file_extension": ".py",
      "mimetype": "text/x-python",
      "name": "python",
      "nbconvert_exporter": "python",
      "pygments_lexer": "ipython3",
      "version": "3.11.5"
    }
  },
  "nbformat": 4,
  "nbformat_minor": 0
}
