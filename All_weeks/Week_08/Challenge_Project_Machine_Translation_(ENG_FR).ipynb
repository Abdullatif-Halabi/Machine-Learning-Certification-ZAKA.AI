{
  "cells": [
    {
      "cell_type": "markdown",
      "source": [
        "##Machine Translation Using a Seq2Seq Architecture\n",
        "© 2023, Zaka AI, Inc. All Rights Reserved.\n",
        "\n",
        "---\n",
        "The goal of this colab is to get you more familiar with the Seq2Seq models and their challenges. For this reason, you will be working on machine translation problem where we would have a sentence as input (in english), and the output is gonna be the translated sentence (in french). So just like what happens with Google Translate.\n"
      ],
      "metadata": {
        "id": "xiC75uo6u_Of"
      }
    },
    {
      "cell_type": "markdown",
      "source": [
        "**Just to give you a heads up:** We won't be having a model performing like Google translate, but at least we will have an idea about how Google Translate works and the challenges that exist with a translation problem.  "
      ],
      "metadata": {
        "id": "TeK4LPupvg_c"
      }
    },
    {
      "cell_type": "markdown",
      "source": [
        "## Importing Libraries"
      ],
      "metadata": {
        "id": "SBTvDTzBv293"
      }
    },
    {
      "cell_type": "markdown",
      "source": [
        "We start by importing numpy and pandas and then we can add the rest"
      ],
      "metadata": {
        "id": "4_j1ZzS3v6N3"
      }
    },
    {
      "cell_type": "code",
      "execution_count": null,
      "metadata": {
        "id": "n0IARXAX1e1m"
      },
      "outputs": [],
      "source": [
        "import pandas as pd\n",
        "import numpy as np"
      ]
    },
    {
      "cell_type": "markdown",
      "source": [
        "We clone the github repository where our data exists. Here is the github link: https://github.com/zaka-ai/machine_learning_certification/tree/main/Challenge%207"
      ],
      "metadata": {
        "id": "vAcLqZ7uv-SJ"
      }
    },
    {
      "cell_type": "markdown",
      "source": [
        "## Getting the data"
      ],
      "metadata": {
        "id": "i3hLN42axOjn"
      }
    },
    {
      "cell_type": "code",
      "source": [
        "#Test Your Zaka\n",
        "!wget https://raw.githubusercontent.com/zaka-ai/machine_learning_certification/main/Challenge%207/en.csv https://raw.githubusercontent.com/zaka-ai/machine_learning_certification/main/Challenge%207/fr.csv\n"
      ],
      "metadata": {
        "id": "0-M7cFxTPpqy",
        "colab": {
          "base_uri": "https://localhost:8080/"
        },
        "outputId": "829afdc4-8713-4dac-8536-df413fdf9c69"
      },
      "execution_count": null,
      "outputs": [
        {
          "output_type": "stream",
          "name": "stdout",
          "text": [
            "--2023-07-07 10:10:04--  https://raw.githubusercontent.com/zaka-ai/machine_learning_certification/main/Challenge%207/en.csv\n",
            "Resolving raw.githubusercontent.com (raw.githubusercontent.com)... 185.199.108.133, 185.199.109.133, 185.199.110.133, ...\n",
            "Connecting to raw.githubusercontent.com (raw.githubusercontent.com)|185.199.108.133|:443... connected.\n",
            "HTTP request sent, awaiting response... 200 OK\n",
            "Length: 9465321 (9.0M) [text/plain]\n",
            "Saving to: ‘en.csv.3’\n",
            "\n",
            "en.csv.3            100%[===================>]   9.03M  --.-KB/s    in 0.04s   \n",
            "\n",
            "2023-07-07 10:10:04 (205 MB/s) - ‘en.csv.3’ saved [9465321/9465321]\n",
            "\n",
            "--2023-07-07 10:10:04--  https://raw.githubusercontent.com/zaka-ai/machine_learning_certification/main/Challenge%207/fr.csv\n",
            "Reusing existing connection to raw.githubusercontent.com:443.\n",
            "HTTP request sent, awaiting response... 200 OK\n",
            "Length: 10515807 (10M) [text/plain]\n",
            "Saving to: ‘fr.csv.3’\n",
            "\n",
            "fr.csv.3            100%[===================>]  10.03M  --.-KB/s    in 0.02s   \n",
            "\n",
            "2023-07-07 10:10:04 (412 MB/s) - ‘fr.csv.3’ saved [10515807/10515807]\n",
            "\n",
            "FINISHED --2023-07-07 10:10:04--\n",
            "Total wall clock time: 0.7s\n",
            "Downloaded: 2 files, 19M in 0.07s (279 MB/s)\n"
          ]
        }
      ]
    },
    {
      "cell_type": "markdown",
      "source": [
        "We read the english sentences in a dataframe named \"english\", and the french sentences in a dataframe named \"french\""
      ],
      "metadata": {
        "id": "BaPr0N8cwGAv"
      }
    },
    {
      "cell_type": "code",
      "execution_count": null,
      "metadata": {
        "id": "kFj8gkP01lGT"
      },
      "outputs": [],
      "source": [
        "#Test Your Zaka (English)\n",
        "english = pd.read_csv('en.csv')"
      ]
    },
    {
      "cell_type": "code",
      "execution_count": null,
      "metadata": {
        "id": "P4A7ZKt32A7s"
      },
      "outputs": [],
      "source": [
        "#Test Your Zaka (French)\n",
        "\n",
        "french = pd.read_csv('fr.csv')"
      ]
    },
    {
      "cell_type": "markdown",
      "source": [
        "**How many sentences does each of the files contain?**"
      ],
      "metadata": {
        "id": "jr8OO1OhwSp4"
      }
    },
    {
      "cell_type": "code",
      "execution_count": null,
      "metadata": {
        "id": "XhWJP-b02HKq",
        "colab": {
          "base_uri": "https://localhost:8080/"
        },
        "outputId": "940df33c-606d-49d0-b7a6-045bf413fe82"
      },
      "outputs": [
        {
          "output_type": "stream",
          "name": "stdout",
          "text": [
            "we have 137859 english sentences and 137859 french sentences \n"
          ]
        }
      ],
      "source": [
        "#Test Your Zaka\n",
        "print(f\"we have {english.shape[0]} english sentences and {french.shape[0]} french sentences \")"
      ]
    },
    {
      "cell_type": "markdown",
      "source": [
        "Now let us concatenate the 2 dataframes into one dataframe that we call **df** where one column has the english senetnces and the other has the french sentences"
      ],
      "metadata": {
        "id": "ITGJN5tIwkDO"
      }
    },
    {
      "cell_type": "code",
      "execution_count": null,
      "metadata": {
        "id": "-ZXxahsB2njn"
      },
      "outputs": [],
      "source": [
        "#Test Your Zaka\n",
        "df = pd.concat([english,french],axis=1)"
      ]
    },
    {
      "cell_type": "markdown",
      "source": [
        "Let's name the columns as **English** and **French** so that we access them easier."
      ],
      "metadata": {
        "id": "nAr_caXkwwE7"
      }
    },
    {
      "cell_type": "code",
      "execution_count": null,
      "metadata": {
        "id": "eOHiQDXx3jFS"
      },
      "outputs": [],
      "source": [
        "#Test Your Zaka\n",
        "df.columns = ['english', 'french']"
      ]
    },
    {
      "cell_type": "markdown",
      "source": [
        "Pick a sentence and print it in both languages"
      ],
      "metadata": {
        "id": "4xc1TsEHw9yC"
      }
    },
    {
      "cell_type": "code",
      "execution_count": null,
      "metadata": {
        "id": "QuRVWch23ujo",
        "colab": {
          "base_uri": "https://localhost:8080/"
        },
        "outputId": "7b4914fe-e851-4802-a18b-7a08418a0b9d"
      },
      "outputs": [
        {
          "output_type": "stream",
          "name": "stdout",
          "text": [
            "here is our 5th sentence with its translation in french :\n",
            "his favorite fruit is the orange , but my favorite is the grape .--->son fruit préféré est l'orange , mais mon préféré est le raisin .\n"
          ]
        }
      ],
      "source": [
        "#Test Your Zaka\n",
        "print('here is our 5th sentence with its translation in french :')\n",
        "print(df.iloc[4,0] + '--->' + df.iloc[4,1])"
      ]
    },
    {
      "cell_type": "code",
      "source": [
        "df.head()"
      ],
      "metadata": {
        "colab": {
          "base_uri": "https://localhost:8080/",
          "height": 206
        },
        "id": "GhHX-PWhMyPK",
        "outputId": "e1bd724b-9957-4fbc-a5ec-c1c8d075bcc6"
      },
      "execution_count": null,
      "outputs": [
        {
          "output_type": "execute_result",
          "data": {
            "text/plain": [
              "                                             english  \\\n",
              "0  the united states is usually chilly during jul...   \n",
              "1  california is usually quiet during march , and...   \n",
              "2  the united states is sometimes mild during jun...   \n",
              "3  your least liked fruit is the grape , but my l...   \n",
              "4  his favorite fruit is the orange , but my favo...   \n",
              "\n",
              "                                              french  \n",
              "0  les états-unis est généralement froid en juill...  \n",
              "1  california est généralement calme en mars , et...  \n",
              "2  les états-unis est parfois légère en juin , et...  \n",
              "3  votre moins aimé fruit est le raisin , mais mo...  \n",
              "4  son fruit préféré est l'orange , mais mon préf...  "
            ],
            "text/html": [
              "\n",
              "  <div id=\"df-33bada89-059a-409f-bf46-b62849d8de0b\">\n",
              "    <div class=\"colab-df-container\">\n",
              "      <div>\n",
              "<style scoped>\n",
              "    .dataframe tbody tr th:only-of-type {\n",
              "        vertical-align: middle;\n",
              "    }\n",
              "\n",
              "    .dataframe tbody tr th {\n",
              "        vertical-align: top;\n",
              "    }\n",
              "\n",
              "    .dataframe thead th {\n",
              "        text-align: right;\n",
              "    }\n",
              "</style>\n",
              "<table border=\"1\" class=\"dataframe\">\n",
              "  <thead>\n",
              "    <tr style=\"text-align: right;\">\n",
              "      <th></th>\n",
              "      <th>english</th>\n",
              "      <th>french</th>\n",
              "    </tr>\n",
              "  </thead>\n",
              "  <tbody>\n",
              "    <tr>\n",
              "      <th>0</th>\n",
              "      <td>the united states is usually chilly during jul...</td>\n",
              "      <td>les états-unis est généralement froid en juill...</td>\n",
              "    </tr>\n",
              "    <tr>\n",
              "      <th>1</th>\n",
              "      <td>california is usually quiet during march , and...</td>\n",
              "      <td>california est généralement calme en mars , et...</td>\n",
              "    </tr>\n",
              "    <tr>\n",
              "      <th>2</th>\n",
              "      <td>the united states is sometimes mild during jun...</td>\n",
              "      <td>les états-unis est parfois légère en juin , et...</td>\n",
              "    </tr>\n",
              "    <tr>\n",
              "      <th>3</th>\n",
              "      <td>your least liked fruit is the grape , but my l...</td>\n",
              "      <td>votre moins aimé fruit est le raisin , mais mo...</td>\n",
              "    </tr>\n",
              "    <tr>\n",
              "      <th>4</th>\n",
              "      <td>his favorite fruit is the orange , but my favo...</td>\n",
              "      <td>son fruit préféré est l'orange , mais mon préf...</td>\n",
              "    </tr>\n",
              "  </tbody>\n",
              "</table>\n",
              "</div>\n",
              "      <button class=\"colab-df-convert\" onclick=\"convertToInteractive('df-33bada89-059a-409f-bf46-b62849d8de0b')\"\n",
              "              title=\"Convert this dataframe to an interactive table.\"\n",
              "              style=\"display:none;\">\n",
              "        \n",
              "  <svg xmlns=\"http://www.w3.org/2000/svg\" height=\"24px\"viewBox=\"0 0 24 24\"\n",
              "       width=\"24px\">\n",
              "    <path d=\"M0 0h24v24H0V0z\" fill=\"none\"/>\n",
              "    <path d=\"M18.56 5.44l.94 2.06.94-2.06 2.06-.94-2.06-.94-.94-2.06-.94 2.06-2.06.94zm-11 1L8.5 8.5l.94-2.06 2.06-.94-2.06-.94L8.5 2.5l-.94 2.06-2.06.94zm10 10l.94 2.06.94-2.06 2.06-.94-2.06-.94-.94-2.06-.94 2.06-2.06.94z\"/><path d=\"M17.41 7.96l-1.37-1.37c-.4-.4-.92-.59-1.43-.59-.52 0-1.04.2-1.43.59L10.3 9.45l-7.72 7.72c-.78.78-.78 2.05 0 2.83L4 21.41c.39.39.9.59 1.41.59.51 0 1.02-.2 1.41-.59l7.78-7.78 2.81-2.81c.8-.78.8-2.07 0-2.86zM5.41 20L4 18.59l7.72-7.72 1.47 1.35L5.41 20z\"/>\n",
              "  </svg>\n",
              "      </button>\n",
              "      \n",
              "  <style>\n",
              "    .colab-df-container {\n",
              "      display:flex;\n",
              "      flex-wrap:wrap;\n",
              "      gap: 12px;\n",
              "    }\n",
              "\n",
              "    .colab-df-convert {\n",
              "      background-color: #E8F0FE;\n",
              "      border: none;\n",
              "      border-radius: 50%;\n",
              "      cursor: pointer;\n",
              "      display: none;\n",
              "      fill: #1967D2;\n",
              "      height: 32px;\n",
              "      padding: 0 0 0 0;\n",
              "      width: 32px;\n",
              "    }\n",
              "\n",
              "    .colab-df-convert:hover {\n",
              "      background-color: #E2EBFA;\n",
              "      box-shadow: 0px 1px 2px rgba(60, 64, 67, 0.3), 0px 1px 3px 1px rgba(60, 64, 67, 0.15);\n",
              "      fill: #174EA6;\n",
              "    }\n",
              "\n",
              "    [theme=dark] .colab-df-convert {\n",
              "      background-color: #3B4455;\n",
              "      fill: #D2E3FC;\n",
              "    }\n",
              "\n",
              "    [theme=dark] .colab-df-convert:hover {\n",
              "      background-color: #434B5C;\n",
              "      box-shadow: 0px 1px 3px 1px rgba(0, 0, 0, 0.15);\n",
              "      filter: drop-shadow(0px 1px 2px rgba(0, 0, 0, 0.3));\n",
              "      fill: #FFFFFF;\n",
              "    }\n",
              "  </style>\n",
              "\n",
              "      <script>\n",
              "        const buttonEl =\n",
              "          document.querySelector('#df-33bada89-059a-409f-bf46-b62849d8de0b button.colab-df-convert');\n",
              "        buttonEl.style.display =\n",
              "          google.colab.kernel.accessAllowed ? 'block' : 'none';\n",
              "\n",
              "        async function convertToInteractive(key) {\n",
              "          const element = document.querySelector('#df-33bada89-059a-409f-bf46-b62849d8de0b');\n",
              "          const dataTable =\n",
              "            await google.colab.kernel.invokeFunction('convertToInteractive',\n",
              "                                                     [key], {});\n",
              "          if (!dataTable) return;\n",
              "\n",
              "          const docLinkHtml = 'Like what you see? Visit the ' +\n",
              "            '<a target=\"_blank\" href=https://colab.research.google.com/notebooks/data_table.ipynb>data table notebook</a>'\n",
              "            + ' to learn more about interactive tables.';\n",
              "          element.innerHTML = '';\n",
              "          dataTable['output_type'] = 'display_data';\n",
              "          await google.colab.output.renderOutput(dataTable, element);\n",
              "          const docLink = document.createElement('div');\n",
              "          docLink.innerHTML = docLinkHtml;\n",
              "          element.appendChild(docLink);\n",
              "        }\n",
              "      </script>\n",
              "    </div>\n",
              "  </div>\n",
              "  "
            ]
          },
          "metadata": {},
          "execution_count": 11
        }
      ]
    },
    {
      "cell_type": "markdown",
      "source": [
        "##Cleaning Data"
      ],
      "metadata": {
        "id": "FQjXYP1txFCi"
      }
    },
    {
      "cell_type": "markdown",
      "source": [
        "The data that we have is almost clean as we can see, we just need to remove the punctuations inside of it."
      ],
      "metadata": {
        "id": "xgz6jIoVxHUF"
      }
    },
    {
      "cell_type": "code",
      "execution_count": null,
      "metadata": {
        "id": "6YYOt5QftcFI"
      },
      "outputs": [],
      "source": [
        "#Test Your Zaka\n",
        "import re\n",
        "\n",
        "def remove_NoAlpha(sentence):\n",
        "    return re.sub(r'[^\\w\\sÀ-ÖØ-öø-ÿ]', ' ', sentence)\n",
        "\n",
        "# Iterate over the columns and remove punctuation\n",
        "for column in df.columns:\n",
        "    df[column] = df[column].apply(remove_NoAlpha)"
      ]
    },
    {
      "cell_type": "markdown",
      "source": [
        "Make sure that the punctuation is removed by printing the example that you printed earlier."
      ],
      "metadata": {
        "id": "0C1qsC9LxZPb"
      }
    },
    {
      "cell_type": "code",
      "execution_count": null,
      "metadata": {
        "id": "T80tiWxe84G7",
        "colab": {
          "base_uri": "https://localhost:8080/"
        },
        "outputId": "4722b71c-3857-43f2-c332-5dc9d5cebf45"
      },
      "outputs": [
        {
          "output_type": "stream",
          "name": "stdout",
          "text": [
            "here is our 5th sentence with its translation in french :\n",
            "his favorite fruit is the orange   but my favorite is the grape  ---> son fruit préféré est l orange   mais mon préféré est le raisin  \n"
          ]
        }
      ],
      "source": [
        "#Test Your Zaka\n",
        "print('here is our 5th sentence with its translation in french :')\n",
        "print(df.iloc[4,0] + '---> ' + df.iloc[4,1])"
      ]
    },
    {
      "cell_type": "markdown",
      "source": [
        "##Exploring the Data"
      ],
      "metadata": {
        "id": "ZuFNjoBAx4oN"
      }
    },
    {
      "cell_type": "markdown",
      "source": [
        "Add a column **ENG Length** to the dataset that shows how many words does a sentence contain, and do the same for french in a column called **FR Length**"
      ],
      "metadata": {
        "id": "ATfefzPExi2k"
      }
    },
    {
      "cell_type": "code",
      "execution_count": null,
      "metadata": {
        "id": "Dakeo81s352S"
      },
      "outputs": [],
      "source": [
        "#Test Your Zaka\n",
        "def count_words(sentence):\n",
        "    return len(sentence.split())\n",
        "\n",
        "df['eng length'] = df['english'].apply(lambda x: count_words(x))"
      ]
    },
    {
      "cell_type": "code",
      "execution_count": null,
      "metadata": {
        "id": "49keasjaPaaK"
      },
      "outputs": [],
      "source": [
        "#Test Your Zaka\n",
        "df['fr length'] = df['french'].apply(lambda x: count_words(x))\n"
      ]
    },
    {
      "cell_type": "code",
      "source": [
        "df.head()"
      ],
      "metadata": {
        "colab": {
          "base_uri": "https://localhost:8080/",
          "height": 206
        },
        "id": "xjgzB89xM5fq",
        "outputId": "474f7ffd-379e-4ca6-cdf1-6a05704a77d7"
      },
      "execution_count": null,
      "outputs": [
        {
          "output_type": "execute_result",
          "data": {
            "text/plain": [
              "                                             english  \\\n",
              "0  the united states is usually chilly during jul...   \n",
              "1  california is usually quiet during march   and...   \n",
              "2  the united states is sometimes mild during jun...   \n",
              "3  your least liked fruit is the grape   but my l...   \n",
              "4  his favorite fruit is the orange   but my favo...   \n",
              "\n",
              "                                              french  eng length  fr length  \n",
              "0  les états unis est généralement froid en juill...          15         14  \n",
              "1  california est généralement calme en mars   et...          13         13  \n",
              "2  les états unis est parfois légère en juin   et...          14         14  \n",
              "3  votre moins aimé fruit est le raisin   mais mo...          14         14  \n",
              "4  son fruit préféré est l orange   mais mon préf...          12         12  "
            ],
            "text/html": [
              "\n",
              "  <div id=\"df-542350f7-43fa-4e9e-b84e-b8826ff20ad3\">\n",
              "    <div class=\"colab-df-container\">\n",
              "      <div>\n",
              "<style scoped>\n",
              "    .dataframe tbody tr th:only-of-type {\n",
              "        vertical-align: middle;\n",
              "    }\n",
              "\n",
              "    .dataframe tbody tr th {\n",
              "        vertical-align: top;\n",
              "    }\n",
              "\n",
              "    .dataframe thead th {\n",
              "        text-align: right;\n",
              "    }\n",
              "</style>\n",
              "<table border=\"1\" class=\"dataframe\">\n",
              "  <thead>\n",
              "    <tr style=\"text-align: right;\">\n",
              "      <th></th>\n",
              "      <th>english</th>\n",
              "      <th>french</th>\n",
              "      <th>eng length</th>\n",
              "      <th>fr length</th>\n",
              "    </tr>\n",
              "  </thead>\n",
              "  <tbody>\n",
              "    <tr>\n",
              "      <th>0</th>\n",
              "      <td>the united states is usually chilly during jul...</td>\n",
              "      <td>les états unis est généralement froid en juill...</td>\n",
              "      <td>15</td>\n",
              "      <td>14</td>\n",
              "    </tr>\n",
              "    <tr>\n",
              "      <th>1</th>\n",
              "      <td>california is usually quiet during march   and...</td>\n",
              "      <td>california est généralement calme en mars   et...</td>\n",
              "      <td>13</td>\n",
              "      <td>13</td>\n",
              "    </tr>\n",
              "    <tr>\n",
              "      <th>2</th>\n",
              "      <td>the united states is sometimes mild during jun...</td>\n",
              "      <td>les états unis est parfois légère en juin   et...</td>\n",
              "      <td>14</td>\n",
              "      <td>14</td>\n",
              "    </tr>\n",
              "    <tr>\n",
              "      <th>3</th>\n",
              "      <td>your least liked fruit is the grape   but my l...</td>\n",
              "      <td>votre moins aimé fruit est le raisin   mais mo...</td>\n",
              "      <td>14</td>\n",
              "      <td>14</td>\n",
              "    </tr>\n",
              "    <tr>\n",
              "      <th>4</th>\n",
              "      <td>his favorite fruit is the orange   but my favo...</td>\n",
              "      <td>son fruit préféré est l orange   mais mon préf...</td>\n",
              "      <td>12</td>\n",
              "      <td>12</td>\n",
              "    </tr>\n",
              "  </tbody>\n",
              "</table>\n",
              "</div>\n",
              "      <button class=\"colab-df-convert\" onclick=\"convertToInteractive('df-542350f7-43fa-4e9e-b84e-b8826ff20ad3')\"\n",
              "              title=\"Convert this dataframe to an interactive table.\"\n",
              "              style=\"display:none;\">\n",
              "        \n",
              "  <svg xmlns=\"http://www.w3.org/2000/svg\" height=\"24px\"viewBox=\"0 0 24 24\"\n",
              "       width=\"24px\">\n",
              "    <path d=\"M0 0h24v24H0V0z\" fill=\"none\"/>\n",
              "    <path d=\"M18.56 5.44l.94 2.06.94-2.06 2.06-.94-2.06-.94-.94-2.06-.94 2.06-2.06.94zm-11 1L8.5 8.5l.94-2.06 2.06-.94-2.06-.94L8.5 2.5l-.94 2.06-2.06.94zm10 10l.94 2.06.94-2.06 2.06-.94-2.06-.94-.94-2.06-.94 2.06-2.06.94z\"/><path d=\"M17.41 7.96l-1.37-1.37c-.4-.4-.92-.59-1.43-.59-.52 0-1.04.2-1.43.59L10.3 9.45l-7.72 7.72c-.78.78-.78 2.05 0 2.83L4 21.41c.39.39.9.59 1.41.59.51 0 1.02-.2 1.41-.59l7.78-7.78 2.81-2.81c.8-.78.8-2.07 0-2.86zM5.41 20L4 18.59l7.72-7.72 1.47 1.35L5.41 20z\"/>\n",
              "  </svg>\n",
              "      </button>\n",
              "      \n",
              "  <style>\n",
              "    .colab-df-container {\n",
              "      display:flex;\n",
              "      flex-wrap:wrap;\n",
              "      gap: 12px;\n",
              "    }\n",
              "\n",
              "    .colab-df-convert {\n",
              "      background-color: #E8F0FE;\n",
              "      border: none;\n",
              "      border-radius: 50%;\n",
              "      cursor: pointer;\n",
              "      display: none;\n",
              "      fill: #1967D2;\n",
              "      height: 32px;\n",
              "      padding: 0 0 0 0;\n",
              "      width: 32px;\n",
              "    }\n",
              "\n",
              "    .colab-df-convert:hover {\n",
              "      background-color: #E2EBFA;\n",
              "      box-shadow: 0px 1px 2px rgba(60, 64, 67, 0.3), 0px 1px 3px 1px rgba(60, 64, 67, 0.15);\n",
              "      fill: #174EA6;\n",
              "    }\n",
              "\n",
              "    [theme=dark] .colab-df-convert {\n",
              "      background-color: #3B4455;\n",
              "      fill: #D2E3FC;\n",
              "    }\n",
              "\n",
              "    [theme=dark] .colab-df-convert:hover {\n",
              "      background-color: #434B5C;\n",
              "      box-shadow: 0px 1px 3px 1px rgba(0, 0, 0, 0.15);\n",
              "      filter: drop-shadow(0px 1px 2px rgba(0, 0, 0, 0.3));\n",
              "      fill: #FFFFFF;\n",
              "    }\n",
              "  </style>\n",
              "\n",
              "      <script>\n",
              "        const buttonEl =\n",
              "          document.querySelector('#df-542350f7-43fa-4e9e-b84e-b8826ff20ad3 button.colab-df-convert');\n",
              "        buttonEl.style.display =\n",
              "          google.colab.kernel.accessAllowed ? 'block' : 'none';\n",
              "\n",
              "        async function convertToInteractive(key) {\n",
              "          const element = document.querySelector('#df-542350f7-43fa-4e9e-b84e-b8826ff20ad3');\n",
              "          const dataTable =\n",
              "            await google.colab.kernel.invokeFunction('convertToInteractive',\n",
              "                                                     [key], {});\n",
              "          if (!dataTable) return;\n",
              "\n",
              "          const docLinkHtml = 'Like what you see? Visit the ' +\n",
              "            '<a target=\"_blank\" href=https://colab.research.google.com/notebooks/data_table.ipynb>data table notebook</a>'\n",
              "            + ' to learn more about interactive tables.';\n",
              "          element.innerHTML = '';\n",
              "          dataTable['output_type'] = 'display_data';\n",
              "          await google.colab.output.renderOutput(dataTable, element);\n",
              "          const docLink = document.createElement('div');\n",
              "          docLink.innerHTML = docLinkHtml;\n",
              "          element.appendChild(docLink);\n",
              "        }\n",
              "      </script>\n",
              "    </div>\n",
              "  </div>\n",
              "  "
            ]
          },
          "metadata": {},
          "execution_count": 16
        }
      ]
    },
    {
      "cell_type": "markdown",
      "source": [
        "Visualize the distribution of the lengths of english sentences and french sentences."
      ],
      "metadata": {
        "id": "AjQLW0K5xwx1"
      }
    },
    {
      "cell_type": "code",
      "execution_count": null,
      "metadata": {
        "id": "_q_UIMJ09L24",
        "colab": {
          "base_uri": "https://localhost:8080/",
          "height": 521
        },
        "outputId": "486db847-41a0-43a8-b78a-5bc87afdd6de"
      },
      "outputs": [
        {
          "output_type": "execute_result",
          "data": {
            "text/plain": [
              "(array([  137.,   146.,  2592., 26325.,     0.,  5082.,  1081.,   664.,\n",
              "          356.,     0.,  3535., 27009., 34912., 29962.,  6058.]),\n",
              " array([ 3. ,  3.8,  4.6,  5.4,  6.2,  7. ,  7.8,  8.6,  9.4, 10.2, 11. ,\n",
              "        11.8, 12.6, 13.4, 14.2, 15. ]),\n",
              " <BarContainer object of 15 artists>)"
            ]
          },
          "metadata": {},
          "execution_count": 17
        },
        {
          "output_type": "display_data",
          "data": {
            "text/plain": [
              "<Figure size 640x480 with 1 Axes>"
            ],
            "image/png": "[encoded data removed]"
          },
          "metadata": {}
        }
      ],
      "source": [
        "#Test Your Zaka\n",
        "import matplotlib.pyplot as plt\n",
        "\n",
        "plt.hist(df['eng length'],bins= 15)"
      ]
    },
    {
      "cell_type": "code",
      "execution_count": null,
      "metadata": {
        "id": "TSn4L7kW9R7g",
        "colab": {
          "base_uri": "https://localhost:8080/",
          "height": 540
        },
        "outputId": "f25f8e4a-2acb-4d7f-9881-9320c792d0e1"
      },
      "outputs": [
        {
          "output_type": "execute_result",
          "data": {
            "text/plain": [
              "(array([1.7700e+02, 3.9300e+02, 4.6530e+03, 4.8760e+03, 4.5710e+03,\n",
              "        1.9158e+04, 3.9370e+03, 1.4549e+04, 1.7542e+04, 3.2693e+04,\n",
              "        3.1649e+04, 2.8630e+03, 6.8400e+02, 1.0300e+02, 1.1000e+01]),\n",
              " array([ 3. ,  4.2,  5.4,  6.6,  7.8,  9. , 10.2, 11.4, 12.6, 13.8, 15. ,\n",
              "        16.2, 17.4, 18.6, 19.8, 21. ]),\n",
              " <BarContainer object of 15 artists>)"
            ]
          },
          "metadata": {},
          "execution_count": 18
        },
        {
          "output_type": "display_data",
          "data": {
            "text/plain": [
              "<Figure size 640x480 with 1 Axes>"
            ],
            "image/png": "[encoded data removed]"
          },
          "metadata": {}
        }
      ],
      "source": [
        "#Test Your Zaka\n",
        "plt.hist(df['fr length'], bins =15 )"
      ]
    },
    {
      "cell_type": "markdown",
      "source": [
        "Get the maximum length of an english sentence and the maximum length of a french sentence."
      ],
      "metadata": {
        "id": "BDXb2d9ix9DV"
      }
    },
    {
      "cell_type": "code",
      "execution_count": null,
      "metadata": {
        "id": "BpnBB04U_lHd",
        "colab": {
          "base_uri": "https://localhost:8080/"
        },
        "outputId": "51225b13-2de2-4050-dda4-67898dea716f"
      },
      "outputs": [
        {
          "output_type": "stream",
          "name": "stdout",
          "text": [
            "the biggest sentences for english and french respectively have 15 and 21 number of words .\n"
          ]
        }
      ],
      "source": [
        "#Test Your Zaka\n",
        "max_fr= df['fr length'].max()\n",
        "max_en= df['eng length'].max()\n",
        "print(f'the biggest sentences for english and french respectively have {max_en} and {max_fr} number of words .')"
      ]
    },
    {
      "cell_type": "markdown",
      "source": [
        "##Preprocessing the Data"
      ],
      "metadata": {
        "id": "s4s-spsRyGJv"
      }
    },
    {
      "cell_type": "markdown",
      "source": [
        "In order for the data to be fed to the model, it has to be tokenized and padded."
      ],
      "metadata": {
        "id": "N0ZmIT2GyJMU"
      }
    },
    {
      "cell_type": "markdown",
      "source": [
        "####Tokenization"
      ],
      "metadata": {
        "id": "R0r9z-eErm9H"
      }
    },
    {
      "cell_type": "markdown",
      "source": [
        "**To tokenize english and french sentences, we can use only one tokenizer. True or False?**"
      ],
      "metadata": {
        "id": "X5L_zkhfyQuX"
      }
    },
    {
      "cell_type": "markdown",
      "source": [
        "[Share Your Zaka]\n",
        "\n",
        "**False . Because English tokenization often involves splitting text based on white spaces and punctuation marks, while French tokenization may involve additional considerations such as handling contractions, diacritics, and specific punctuation rules. Using separate tokenizers for each language allows for more accurate and language-specific tokenization.**"
      ],
      "metadata": {
        "id": "1Z0ZcNOeyauD"
      }
    },
    {
      "cell_type": "markdown",
      "source": [
        "Tokenize the sentences that we have."
      ],
      "metadata": {
        "id": "814mKDFiymcY"
      }
    },
    {
      "cell_type": "code",
      "source": [
        "from keras.preprocessing.text import Tokenizer\n",
        "\n",
        "def create_tokenizer(text):\n",
        "  tokenizer = Tokenizer()\n",
        "  tokenizer.fit_on_texts(text)\n",
        "  return tokenizer\n",
        "\n",
        "eng_tokenizer = create_tokenizer(df.english)\n",
        "fr_tokenizer = create_tokenizer(df.french)\n",
        "\n",
        "from sklearn.model_selection import train_test_split\n",
        "\n",
        "x = eng_tokenizer.texts_to_sequences(df.english)\n",
        "y = fr_tokenizer.texts_to_sequences(df.french)\n",
        "x_train,x_test,y_train,y_test = train_test_split(x,y,test_size=0.3,random_state=42)\n",
        "\n"
      ],
      "metadata": {
        "id": "94A4TjQI__Ib"
      },
      "execution_count": null,
      "outputs": []
    },
    {
      "cell_type": "markdown",
      "source": [
        "**How many unique words do we have in english and in french?**"
      ],
      "metadata": {
        "id": "aUN01jDXys9B"
      }
    },
    {
      "cell_type": "code",
      "execution_count": null,
      "metadata": {
        "id": "1WahkdzKvIlO",
        "colab": {
          "base_uri": "https://localhost:8080/"
        },
        "outputId": "d7e03faa-b4ad-4adc-e2d0-122bd202f923"
      },
      "outputs": [
        {
          "output_type": "stream",
          "name": "stdout",
          "text": [
            "The number of unique words for english and french we have are respectively 200 and 330 \n"
          ]
        }
      ],
      "source": [
        "#Test Your Zaka\n",
        "\n",
        "eng_unique_words = len(eng_tokenizer.word_index)\n",
        "fr_unique_words = len(fr_tokenizer.word_index)\n",
        "\n",
        "print(f'The number of unique words for english and french we have are respectively {eng_unique_words} and {fr_unique_words} ')"
      ]
    },
    {
      "cell_type": "markdown",
      "source": [
        "####Padding"
      ],
      "metadata": {
        "id": "g0C2RJjArtJd"
      }
    },
    {
      "cell_type": "markdown",
      "source": [
        "**What should be the length of the sequences that we have after padding?**"
      ],
      "metadata": {
        "id": "vXdTXMo5y8oB"
      }
    },
    {
      "cell_type": "markdown",
      "source": [
        "[Share your Zaka]\n",
        "\n",
        "21 as it is the number of words of the biggest sentence in our data"
      ],
      "metadata": {
        "id": "9wtHQsgXzImq"
      }
    },
    {
      "cell_type": "markdown",
      "source": [
        "Perform padding on the sequences that we have."
      ],
      "metadata": {
        "id": "hRXayRzVzQD4"
      }
    },
    {
      "cell_type": "code",
      "execution_count": null,
      "metadata": {
        "id": "oNdO9EZrxvmN",
        "colab": {
          "base_uri": "https://localhost:8080/"
        },
        "outputId": "b3e29c5c-e914-48b0-c726-cd6dba224038"
      },
      "outputs": [
        {
          "output_type": "stream",
          "name": "stdout",
          "text": [
            "Requirement already satisfied: tensorflow in /usr/local/lib/python3.10/dist-packages (2.12.0)\n",
            "Requirement already satisfied: absl-py>=1.0.0 in /usr/local/lib/python3.10/dist-packages (from tensorflow) (1.4.0)\n",
            "Requirement already satisfied: astunparse>=1.6.0 in /usr/local/lib/python3.10/dist-packages (from tensorflow) (1.6.3)\n",
            "Requirement already satisfied: flatbuffers>=2.0 in /usr/local/lib/python3.10/dist-packages (from tensorflow) (23.5.26)\n",
            "Requirement already satisfied: gast<=0.4.0,>=0.2.1 in /usr/local/lib/python3.10/dist-packages (from tensorflow) (0.4.0)\n",
            "Requirement already satisfied: google-pasta>=0.1.1 in /usr/local/lib/python3.10/dist-packages (from tensorflow) (0.2.0)\n",
            "Requirement already satisfied: grpcio<2.0,>=1.24.3 in /usr/local/lib/python3.10/dist-packages (from tensorflow) (1.56.0)\n",
            "Requirement already satisfied: h5py>=2.9.0 in /usr/local/lib/python3.10/dist-packages (from tensorflow) (3.8.0)\n",
            "Requirement already satisfied: jax>=0.3.15 in /usr/local/lib/python3.10/dist-packages (from tensorflow) (0.4.10)\n",
            "Requirement already satisfied: keras<2.13,>=2.12.0 in /usr/local/lib/python3.10/dist-packages (from tensorflow) (2.12.0)\n",
            "Requirement already satisfied: libclang>=13.0.0 in /usr/local/lib/python3.10/dist-packages (from tensorflow) (16.0.0)\n",
            "Requirement already satisfied: numpy<1.24,>=1.22 in /usr/local/lib/python3.10/dist-packages (from tensorflow) (1.22.4)\n",
            "Requirement already satisfied: opt-einsum>=2.3.2 in /usr/local/lib/python3.10/dist-packages (from tensorflow) (3.3.0)\n",
            "Requirement already satisfied: packaging in /usr/local/lib/python3.10/dist-packages (from tensorflow) (23.1)\n",
            "Requirement already satisfied: protobuf!=4.21.0,!=4.21.1,!=4.21.2,!=4.21.3,!=4.21.4,!=4.21.5,<5.0.0dev,>=3.20.3 in /usr/local/lib/python3.10/dist-packages (from tensorflow) (3.20.3)\n",
            "Requirement already satisfied: setuptools in /usr/local/lib/python3.10/dist-packages (from tensorflow) (67.7.2)\n",
            "Requirement already satisfied: six>=1.12.0 in /usr/local/lib/python3.10/dist-packages (from tensorflow) (1.16.0)\n",
            "Requirement already satisfied: tensorboard<2.13,>=2.12 in /usr/local/lib/python3.10/dist-packages (from tensorflow) (2.12.3)\n",
            "Requirement already satisfied: tensorflow-estimator<2.13,>=2.12.0 in /usr/local/lib/python3.10/dist-packages (from tensorflow) (2.12.0)\n",
            "Requirement already satisfied: termcolor>=1.1.0 in /usr/local/lib/python3.10/dist-packages (from tensorflow) (2.3.0)\n",
            "Requirement already satisfied: typing-extensions>=3.6.6 in /usr/local/lib/python3.10/dist-packages (from tensorflow) (4.6.3)\n",
            "Requirement already satisfied: wrapt<1.15,>=1.11.0 in /usr/local/lib/python3.10/dist-packages (from tensorflow) (1.14.1)\n",
            "Requirement already satisfied: tensorflow-io-gcs-filesystem>=0.23.1 in /usr/local/lib/python3.10/dist-packages (from tensorflow) (0.32.0)\n",
            "Requirement already satisfied: wheel<1.0,>=0.23.0 in /usr/local/lib/python3.10/dist-packages (from astunparse>=1.6.0->tensorflow) (0.40.0)\n",
            "Requirement already satisfied: ml-dtypes>=0.1.0 in /usr/local/lib/python3.10/dist-packages (from jax>=0.3.15->tensorflow) (0.2.0)\n",
            "Requirement already satisfied: scipy>=1.7 in /usr/local/lib/python3.10/dist-packages (from jax>=0.3.15->tensorflow) (1.10.1)\n",
            "Requirement already satisfied: google-auth<3,>=1.6.3 in /usr/local/lib/python3.10/dist-packages (from tensorboard<2.13,>=2.12->tensorflow) (2.17.3)\n",
            "Requirement already satisfied: google-auth-oauthlib<1.1,>=0.5 in /usr/local/lib/python3.10/dist-packages (from tensorboard<2.13,>=2.12->tensorflow) (1.0.0)\n",
            "Requirement already satisfied: markdown>=2.6.8 in /usr/local/lib/python3.10/dist-packages (from tensorboard<2.13,>=2.12->tensorflow) (3.4.3)\n",
            "Requirement already satisfied: requests<3,>=2.21.0 in /usr/local/lib/python3.10/dist-packages (from tensorboard<2.13,>=2.12->tensorflow) (2.27.1)\n",
            "Requirement already satisfied: tensorboard-data-server<0.8.0,>=0.7.0 in /usr/local/lib/python3.10/dist-packages (from tensorboard<2.13,>=2.12->tensorflow) (0.7.1)\n",
            "Requirement already satisfied: werkzeug>=1.0.1 in /usr/local/lib/python3.10/dist-packages (from tensorboard<2.13,>=2.12->tensorflow) (2.3.6)\n",
            "Requirement already satisfied: cachetools<6.0,>=2.0.0 in /usr/local/lib/python3.10/dist-packages (from google-auth<3,>=1.6.3->tensorboard<2.13,>=2.12->tensorflow) (5.3.1)\n",
            "Requirement already satisfied: pyasn1-modules>=0.2.1 in /usr/local/lib/python3.10/dist-packages (from google-auth<3,>=1.6.3->tensorboard<2.13,>=2.12->tensorflow) (0.3.0)\n",
            "Requirement already satisfied: rsa<5,>=3.1.4 in /usr/local/lib/python3.10/dist-packages (from google-auth<3,>=1.6.3->tensorboard<2.13,>=2.12->tensorflow) (4.9)\n",
            "Requirement already satisfied: requests-oauthlib>=0.7.0 in /usr/local/lib/python3.10/dist-packages (from google-auth-oauthlib<1.1,>=0.5->tensorboard<2.13,>=2.12->tensorflow) (1.3.1)\n",
            "Requirement already satisfied: urllib3<1.27,>=1.21.1 in /usr/local/lib/python3.10/dist-packages (from requests<3,>=2.21.0->tensorboard<2.13,>=2.12->tensorflow) (1.26.16)\n",
            "Requirement already satisfied: certifi>=2017.4.17 in /usr/local/lib/python3.10/dist-packages (from requests<3,>=2.21.0->tensorboard<2.13,>=2.12->tensorflow) (2023.5.7)\n",
            "Requirement already satisfied: charset-normalizer~=2.0.0 in /usr/local/lib/python3.10/dist-packages (from requests<3,>=2.21.0->tensorboard<2.13,>=2.12->tensorflow) (2.0.12)\n",
            "Requirement already satisfied: idna<4,>=2.5 in /usr/local/lib/python3.10/dist-packages (from requests<3,>=2.21.0->tensorboard<2.13,>=2.12->tensorflow) (3.4)\n",
            "Requirement already satisfied: MarkupSafe>=2.1.1 in /usr/local/lib/python3.10/dist-packages (from werkzeug>=1.0.1->tensorboard<2.13,>=2.12->tensorflow) (2.1.3)\n",
            "Requirement already satisfied: pyasn1<0.6.0,>=0.4.6 in /usr/local/lib/python3.10/dist-packages (from pyasn1-modules>=0.2.1->google-auth<3,>=1.6.3->tensorboard<2.13,>=2.12->tensorflow) (0.5.0)\n",
            "Requirement already satisfied: oauthlib>=3.0.0 in /usr/local/lib/python3.10/dist-packages (from requests-oauthlib>=0.7.0->google-auth-oauthlib<1.1,>=0.5->tensorboard<2.13,>=2.12->tensorflow) (3.2.2)\n"
          ]
        }
      ],
      "source": [
        "#Test Your Zaka\n",
        "!pip install tensorflow\n",
        "from tensorflow.keras.preprocessing.sequence import pad_sequences\n",
        "\n",
        "x_train = pad_sequences(x_train, maxlen=max_en, padding='post')\n",
        "x_test = pad_sequences(x_test, maxlen=max_en, padding='post')\n",
        "y_test = pad_sequences(y_test, maxlen=max_fr, padding='post')\n",
        "y_train = pad_sequences(y_train, maxlen=max_fr, padding='post')"
      ]
    },
    {
      "cell_type": "markdown",
      "source": [
        "##Modeling"
      ],
      "metadata": {
        "id": "JxvvVU3ezUHR"
      }
    },
    {
      "cell_type": "markdown",
      "source": [
        "After preprrocessing the data, we can build our model. Start by building a baseline architecture relying on one directional RNNs, LSTMs, or GRUs. It will be good to lookup how to build Seq2Seq models, there are some new layers that will help you like RepeatVector and TimeDistributed."
      ],
      "metadata": {
        "id": "FEKujJUEzVux"
      }
    },
    {
      "cell_type": "code",
      "source": [
        "from keras.utils import to_categorical\n",
        "\n",
        "y_train_encoded = to_categorical(y_train, num_classes= 331)\n",
        "y_test_encoded = to_categorical(y_test, num_classes = 331)"
      ],
      "metadata": {
        "id": "FZS4XTScS8va"
      },
      "execution_count": null,
      "outputs": []
    },
    {
      "cell_type": "code",
      "execution_count": null,
      "metadata": {
        "id": "9oydzHkr3zDC",
        "colab": {
          "base_uri": "https://localhost:8080/",
          "height": 1000
        },
        "outputId": "e82fef84-e891-475e-cf6b-8338132de217"
      },
      "outputs": [
        {
          "output_type": "stream",
          "name": "stdout",
          "text": [
            "Model: \"model\"\n",
            "__________________________________________________________________________________________________\n",
            " Layer (type)                   Output Shape         Param #     Connected to                     \n",
            "==================================================================================================\n",
            " input_1 (InputLayer)           [(None, 15)]         0           []                               \n",
            "                                                                                                  \n",
            " embedding (Embedding)          (None, 15, 256)      51456       ['input_1[0][0]']                \n",
            "                                                                                                  \n",
            " gru (GRU)                      [(None, 128),        148224      ['embedding[0][0]']              \n",
            "                                 (None, 128)]                                                     \n",
            "                                                                                                  \n",
            " repeat_vector (RepeatVector)   (None, 21, 128)      0           ['gru[0][1]']                    \n",
            "                                                                                                  \n",
            " gru_1 (GRU)                    [(None, 21, 128),    99072       ['repeat_vector[0][0]',          \n",
            "                                 (None, 128)]                     'gru[0][1]']                    \n",
            "                                                                                                  \n",
            " time_distributed (TimeDistribu  (None, 21, 331)     42699       ['gru_1[0][0]']                  \n",
            " ted)                                                                                             \n",
            "                                                                                                  \n",
            "==================================================================================================\n",
            "Total params: 341,451\n",
            "Trainable params: 341,451\n",
            "Non-trainable params: 0\n",
            "__________________________________________________________________________________________________\n"
          ]
        },
        {
          "output_type": "execute_result",
          "data": {
            "image/png": "[encoded data removed]",
            "text/plain": [
              "<IPython.core.display.Image object>"
            ]
          },
          "metadata": {},
          "execution_count": 23
        }
      ],
      "source": [
        "#Test Your Zaka\n",
        "from keras.models import Model\n",
        "from keras.utils.vis_utils import plot_model\n",
        "from keras.layers import Input, Dense ,Embedding , GRU , RepeatVector ,TimeDistributed\n",
        "\n",
        "en_inputs = Input(shape=(x_train.shape[1],))\n",
        "en_emb = Embedding(eng_unique_words +1, 256, input_length=x_train.shape[1])(en_inputs)\n",
        "en_out, en_state = GRU(128, return_state=True)(en_emb)\n",
        "\n",
        "de_inputs = RepeatVector(y_train.shape[1])(en_state)\n",
        "de_out, _ = GRU(128, return_sequences=True, return_state=True )(de_inputs, initial_state=en_state)\n",
        "\n",
        "dens_time = TimeDistributed(Dense(fr_unique_words+1, activation='softmax'))\n",
        "pred = dens_time(de_out)\n",
        "\n",
        "model = Model(inputs=en_inputs, outputs=pred)\n",
        "model.summary()\n",
        "plot_model(model, show_shapes=True)"
      ]
    },
    {
      "cell_type": "markdown",
      "source": [
        "Compile and train the model.\n",
        "**FYI:** While specifying the architecture of your model and the number of epochs for training, keeep in your mind that your model might take A LOT of time to train."
      ],
      "metadata": {
        "id": "aP10HtNBzpT0"
      }
    },
    {
      "cell_type": "code",
      "execution_count": null,
      "metadata": {
        "id": "lWw4nBNIFp9D",
        "colab": {
          "base_uri": "https://localhost:8080/"
        },
        "outputId": "23bd807a-3a4c-4905-8a36-adbf9f9ac9e4"
      },
      "outputs": [
        {
          "output_type": "stream",
          "name": "stdout",
          "text": [
            "Epoch 1/15\n",
            "1931/1931 - 64s - loss: 1.4981 - acc: 0.6237 - auc: 0.9771 - precision: 0.9225 - recall: 0.4930 - val_loss: 0.9854 - val_acc: 0.7288 - val_auc: 0.9894 - val_precision: 0.9076 - val_recall: 0.6441 - 64s/epoch - 33ms/step\n",
            "Epoch 2/15\n",
            "1931/1931 - 24s - loss: 0.7777 - acc: 0.7712 - auc: 0.9933 - precision: 0.9229 - recall: 0.6956 - val_loss: 0.6332 - val_acc: 0.8129 - val_auc: 0.9950 - val_precision: 0.9349 - val_recall: 0.7392 - 24s/epoch - 12ms/step\n",
            "Epoch 3/15\n",
            "1931/1931 - 20s - loss: 0.5378 - acc: 0.8391 - auc: 0.9959 - precision: 0.9362 - recall: 0.7768 - val_loss: 0.4581 - val_acc: 0.8616 - val_auc: 0.9966 - val_precision: 0.9397 - val_recall: 0.8051 - 20s/epoch - 10ms/step\n",
            "Epoch 4/15\n",
            "1931/1931 - 32s - loss: 0.3774 - acc: 0.8870 - auc: 0.9971 - precision: 0.9445 - recall: 0.8366 - val_loss: 0.3094 - val_acc: 0.9108 - val_auc: 0.9976 - val_precision: 0.9509 - val_recall: 0.8671 - 32s/epoch - 17ms/step\n",
            "Epoch 5/15\n",
            "1931/1931 - 20s - loss: 0.2729 - acc: 0.9228 - auc: 0.9976 - precision: 0.9513 - recall: 0.8909 - val_loss: 0.2323 - val_acc: 0.9361 - val_auc: 0.9978 - val_precision: 0.9561 - val_recall: 0.9143 - 20s/epoch - 10ms/step\n",
            "Epoch 6/15\n",
            "1931/1931 - 22s - loss: 0.2033 - acc: 0.9441 - auc: 0.9980 - precision: 0.9595 - recall: 0.9281 - val_loss: 0.1801 - val_acc: 0.9504 - val_auc: 0.9980 - val_precision: 0.9623 - val_recall: 0.9390 - 22s/epoch - 12ms/step\n",
            "Epoch 7/15\n",
            "1931/1931 - 23s - loss: 0.1676 - acc: 0.9537 - auc: 0.9982 - precision: 0.9642 - recall: 0.9438 - val_loss: 0.1818 - val_acc: 0.9487 - val_auc: 0.9979 - val_precision: 0.9601 - val_recall: 0.9389 - 23s/epoch - 12ms/step\n",
            "Epoch 8/15\n",
            "1931/1931 - 22s - loss: 0.1452 - acc: 0.9595 - auc: 0.9984 - precision: 0.9677 - recall: 0.9520 - val_loss: 0.1505 - val_acc: 0.9570 - val_auc: 0.9982 - val_precision: 0.9652 - val_recall: 0.9503 - 22s/epoch - 11ms/step\n",
            "Epoch 9/15\n",
            "1931/1931 - 22s - loss: 0.1327 - acc: 0.9623 - auc: 0.9985 - precision: 0.9693 - recall: 0.9563 - val_loss: 0.1420 - val_acc: 0.9597 - val_auc: 0.9982 - val_precision: 0.9669 - val_recall: 0.9537 - 22s/epoch - 11ms/step\n",
            "Epoch 10/15\n",
            "1931/1931 - 20s - loss: 0.1162 - acc: 0.9668 - auc: 0.9987 - precision: 0.9726 - recall: 0.9618 - val_loss: 0.1229 - val_acc: 0.9655 - val_auc: 0.9984 - val_precision: 0.9715 - val_recall: 0.9605 - 20s/epoch - 10ms/step\n",
            "Epoch 11/15\n",
            "1931/1931 - 22s - loss: 0.1107 - acc: 0.9681 - auc: 0.9987 - precision: 0.9733 - recall: 0.9636 - val_loss: 0.1176 - val_acc: 0.9659 - val_auc: 0.9985 - val_precision: 0.9711 - val_recall: 0.9616 - 22s/epoch - 11ms/step\n",
            "Epoch 12/15\n",
            "1931/1931 - 21s - loss: 0.1015 - acc: 0.9706 - auc: 0.9988 - precision: 0.9751 - recall: 0.9666 - val_loss: 0.1140 - val_acc: 0.9677 - val_auc: 0.9984 - val_precision: 0.9727 - val_recall: 0.9634 - 21s/epoch - 11ms/step\n",
            "Epoch 13/15\n",
            "1931/1931 - 21s - loss: 0.0940 - acc: 0.9727 - auc: 0.9989 - precision: 0.9768 - recall: 0.9692 - val_loss: 0.1101 - val_acc: 0.9680 - val_auc: 0.9985 - val_precision: 0.9728 - val_recall: 0.9642 - 21s/epoch - 11ms/step\n",
            "Epoch 14/15\n",
            "1931/1931 - 21s - loss: 0.0890 - acc: 0.9742 - auc: 0.9989 - precision: 0.9779 - recall: 0.9709 - val_loss: 0.1016 - val_acc: 0.9699 - val_auc: 0.9987 - val_precision: 0.9738 - val_recall: 0.9666 - 21s/epoch - 11ms/step\n",
            "Epoch 15/15\n",
            "1931/1931 - 21s - loss: 0.0900 - acc: 0.9738 - auc: 0.9989 - precision: 0.9774 - recall: 0.9706 - val_loss: 0.0930 - val_acc: 0.9735 - val_auc: 0.9987 - val_precision: 0.9771 - val_recall: 0.9705 - 21s/epoch - 11ms/step\n"
          ]
        },
        {
          "output_type": "execute_result",
          "data": {
            "text/plain": [
              "<keras.callbacks.History at 0x7f9410196e60>"
            ]
          },
          "metadata": {},
          "execution_count": 24
        }
      ],
      "source": [
        "#Test Your Zaka\n",
        "import tensorflow as tf\n",
        "model.compile(optimizer='adam', loss=\"categorical_crossentropy\", metrics=[\"acc\", 'AUC' ,tf.keras.metrics.Precision(), tf.keras.metrics.Recall()])\n",
        "model.fit(x_train,y_train_encoded,validation_data=[x_test,y_test_encoded],epochs=15,batch_size=50,verbose=2)"
      ]
    },
    {
      "cell_type": "markdown",
      "source": [
        "Define a function that gets an input sentence in english and gives the output sentence in the french language."
      ],
      "metadata": {
        "id": "9UoEcxyJztiQ"
      }
    },
    {
      "cell_type": "code",
      "source": [
        "#Test Your Zaka\n",
        "def translate(input):\n",
        "  words = input.split()\n",
        "  encoded_sentence = [eng_tokenizer.word_index[word] for word in words]\n",
        "  padded = pad_sequences([encoded_sentence], maxlen=max_en, padding='post')\n",
        "\n",
        "  pred = model.predict(padded)\n",
        "\n",
        "  encoded_output = []\n",
        "  for i in range(len(words)):\n",
        "    encoded_output.append(np.argmax(pred[0][i]))\n",
        "\n",
        "  result=[fr_tokenizer.index_word[index] for index in encoded_output]\n",
        "  translation= ' '.join(result)\n",
        "\n",
        "  return translation"
      ],
      "metadata": {
        "id": "fUU_RdCxYpM6"
      },
      "execution_count": null,
      "outputs": []
    },
    {
      "cell_type": "markdown",
      "source": [
        "Test the following sentence"
      ],
      "metadata": {
        "id": "XUQIcAjWz3bt"
      }
    },
    {
      "cell_type": "code",
      "execution_count": null,
      "metadata": {
        "id": "fDmNqnZIQMko",
        "colab": {
          "base_uri": "https://localhost:8080/",
          "height": 109
        },
        "outputId": "9567fbae-efd1-4dab-da55-126b28eb9cbf"
      },
      "outputs": [
        {
          "output_type": "stream",
          "name": "stdout",
          "text": [
            "1/1 [==============================] - 1s 586ms/step\n",
            "elle conduit le petit camion\n",
            "\n",
            "1/1 [==============================] - 0s 19ms/step\n"
          ]
        },
        {
          "output_type": "execute_result",
          "data": {
            "text/plain": [
              "'son fruit préféré est le pamplemousse'"
            ],
            "application/vnd.google.colaboratory.intrinsic+json": {
              "type": "string"
            }
          },
          "metadata": {},
          "execution_count": 26
        }
      ],
      "source": [
        "input = \"she is driving the truck\"\n",
        "\n",
        "#Test Your Zaka\n",
        "print(translate(input))\n",
        "print()\n",
        "translate(\"his favorite fruit is the grapefruit\")"
      ]
    },
    {
      "cell_type": "markdown",
      "source": [
        "Try to improve your model by modifying the architecture to take into account bidirectionality which is very useful in Machine Translation. Create a new model called model2"
      ],
      "metadata": {
        "id": "wdI2XhaBz6CN"
      }
    },
    {
      "cell_type": "code",
      "execution_count": null,
      "metadata": {
        "id": "Ch28BLsbGnCn",
        "colab": {
          "base_uri": "https://localhost:8080/",
          "height": 1000
        },
        "outputId": "98fe3fb9-804e-4645-ac13-0e0ccd36124d"
      },
      "outputs": [
        {
          "output_type": "stream",
          "name": "stdout",
          "text": [
            "Model: \"model\"\n",
            "__________________________________________________________________________________________________\n",
            " Layer (type)                   Output Shape         Param #     Connected to                     \n",
            "==================================================================================================\n",
            " input_1 (InputLayer)           [(None, 15)]         0           []                               \n",
            "                                                                                                  \n",
            " embedding (Embedding)          (None, 15, 256)      51456       ['input_1[0][0]']                \n",
            "                                                                                                  \n",
            " bidirectional (Bidirectional)  [(None, 15, 256),    296448      ['embedding[0][0]']              \n",
            "                                 (None, 128),                                                     \n",
            "                                 (None, 128)]                                                     \n",
            "                                                                                                  \n",
            " concatenate (Concatenate)      (None, 256)          0           ['bidirectional[0][1]',          \n",
            "                                                                  'bidirectional[0][2]']          \n",
            "                                                                                                  \n",
            " repeat_vector (RepeatVector)   (None, 21, 256)      0           ['concatenate[0][0]']            \n",
            "                                                                                                  \n",
            " gru_1 (GRU)                    [(None, 21, 256),    394752      ['repeat_vector[0][0]',          \n",
            "                                 (None, 256)]                     'concatenate[0][0]']            \n",
            "                                                                                                  \n",
            " time_distributed (TimeDistribu  (None, 21, 331)     85067       ['gru_1[0][0]']                  \n",
            " ted)                                                                                             \n",
            "                                                                                                  \n",
            "==================================================================================================\n",
            "Total params: 827,723\n",
            "Trainable params: 827,723\n",
            "Non-trainable params: 0\n",
            "__________________________________________________________________________________________________\n"
          ]
        },
        {
          "output_type": "execute_result",
          "data": {
            "image/png": "[encoded data removed]",
            "text/plain": [
              "<IPython.core.display.Image object>"
            ]
          },
          "metadata": {},
          "execution_count": 26
        }
      ],
      "source": [
        "#Test Your Zaka\n",
        "from keras.models import Model\n",
        "from keras.utils.vis_utils import plot_model\n",
        "from keras.layers import Input, Dense ,Embedding , GRU , RepeatVector ,TimeDistributed\n",
        "from keras.layers import Bidirectional , concatenate\n",
        "\n",
        "encoder_inputs = Input(shape=(x_train.shape[1],))\n",
        "encoder_emb = Embedding(eng_unique_words + 1, 256, input_length=x_train.shape[1])(encoder_inputs)\n",
        "encoder_outputs, forward_state, backward_state = Bidirectional(GRU(128, return_sequences=True, return_state=True))(encoder_emb)\n",
        "encoder_states_concat = concatenate([forward_state, backward_state])\n",
        "\n",
        "decoder_inputs = RepeatVector(y_train.shape[1])(encoder_states_concat)\n",
        "decoder_outputs, _ = GRU(128*2, return_sequences=True, return_state=True)(decoder_inputs, initial_state=encoder_states_concat)\n",
        "\n",
        "time_dist_dense = TimeDistributed(Dense(fr_unique_words + 1, activation='softmax'))\n",
        "decoder_pred = time_dist_dense(decoder_outputs)\n",
        "\n",
        "model2 = Model(inputs=encoder_inputs, outputs=decoder_pred)\n",
        "model2.summary()\n",
        "plot_model(model2, show_shapes=True)\n"
      ]
    },
    {
      "cell_type": "markdown",
      "source": [
        "compile and train your new model."
      ],
      "metadata": {
        "id": "EHDvxt9L0C21"
      }
    },
    {
      "cell_type": "code",
      "execution_count": null,
      "metadata": {
        "id": "iK1QvVmaTWI2",
        "colab": {
          "base_uri": "https://localhost:8080/"
        },
        "outputId": "5decad59-c7c7-4049-f0a2-f237400df3ee"
      },
      "outputs": [
        {
          "output_type": "stream",
          "name": "stdout",
          "text": [
            "Epoch 1/15\n",
            "1931/1931 - 52s - loss: 1.1774 - acc: 0.6888 - auc: 0.9844 - precision: 0.9204 - recall: 0.5845 - val_loss: 0.7102 - val_acc: 0.7892 - val_auc: 0.9941 - val_precision: 0.9242 - val_recall: 0.7169 - 52s/epoch - 27ms/step\n",
            "Epoch 2/15\n",
            "1931/1931 - 26s - loss: 0.5011 - acc: 0.8517 - auc: 0.9964 - precision: 0.9356 - recall: 0.7916 - val_loss: 0.3299 - val_acc: 0.9053 - val_auc: 0.9978 - val_precision: 0.9450 - val_recall: 0.8618 - 26s/epoch - 14ms/step\n",
            "Epoch 3/15\n",
            "1931/1931 - 25s - loss: 0.2376 - acc: 0.9320 - auc: 0.9981 - precision: 0.9516 - recall: 0.9104 - val_loss: 0.2159 - val_acc: 0.9349 - val_auc: 0.9983 - val_precision: 0.9478 - val_recall: 0.9223 - 25s/epoch - 13ms/step\n",
            "Epoch 4/15\n",
            "1931/1931 - 24s - loss: 0.1611 - acc: 0.9515 - auc: 0.9986 - precision: 0.9604 - recall: 0.9433 - val_loss: 0.1443 - val_acc: 0.9560 - val_auc: 0.9989 - val_precision: 0.9642 - val_recall: 0.9489 - 24s/epoch - 13ms/step\n",
            "Epoch 5/15\n",
            "1931/1931 - 24s - loss: 0.1313 - acc: 0.9595 - auc: 0.9988 - precision: 0.9657 - recall: 0.9539 - val_loss: 0.1208 - val_acc: 0.9627 - val_auc: 0.9989 - val_precision: 0.9682 - val_recall: 0.9579 - 24s/epoch - 13ms/step\n",
            "Epoch 6/15\n",
            "1931/1931 - 24s - loss: 0.1034 - acc: 0.9680 - auc: 0.9991 - precision: 0.9723 - recall: 0.9642 - val_loss: 0.1052 - val_acc: 0.9682 - val_auc: 0.9986 - val_precision: 0.9721 - val_recall: 0.9651 - 24s/epoch - 13ms/step\n",
            "Epoch 7/15\n",
            "1931/1931 - 25s - loss: 0.0976 - acc: 0.9700 - auc: 0.9990 - precision: 0.9737 - recall: 0.9667 - val_loss: 0.0996 - val_acc: 0.9698 - val_auc: 0.9988 - val_precision: 0.9732 - val_recall: 0.9668 - 25s/epoch - 13ms/step\n",
            "Epoch 8/15\n",
            "1931/1931 - 24s - loss: 0.0880 - acc: 0.9730 - auc: 0.9991 - precision: 0.9761 - recall: 0.9703 - val_loss: 0.0917 - val_acc: 0.9723 - val_auc: 0.9989 - val_precision: 0.9752 - val_recall: 0.9698 - 24s/epoch - 12ms/step\n",
            "Epoch 9/15\n",
            "1931/1931 - 25s - loss: 0.0757 - acc: 0.9769 - auc: 0.9992 - precision: 0.9793 - recall: 0.9747 - val_loss: 0.0810 - val_acc: 0.9761 - val_auc: 0.9988 - val_precision: 0.9785 - val_recall: 0.9741 - 25s/epoch - 13ms/step\n",
            "Epoch 10/15\n",
            "1931/1931 - 24s - loss: 0.0735 - acc: 0.9777 - auc: 0.9992 - precision: 0.9799 - recall: 0.9757 - val_loss: 0.0966 - val_acc: 0.9713 - val_auc: 0.9985 - val_precision: 0.9740 - val_recall: 0.9691 - 24s/epoch - 13ms/step\n",
            "Epoch 11/15\n",
            "1931/1931 - 26s - loss: 0.0666 - acc: 0.9798 - auc: 0.9992 - precision: 0.9818 - recall: 0.9781 - val_loss: 0.0823 - val_acc: 0.9762 - val_auc: 0.9987 - val_precision: 0.9783 - val_recall: 0.9745 - 26s/epoch - 13ms/step\n",
            "Epoch 12/15\n",
            "1931/1931 - 24s - loss: 0.0686 - acc: 0.9793 - auc: 0.9992 - precision: 0.9814 - recall: 0.9775 - val_loss: 0.0762 - val_acc: 0.9777 - val_auc: 0.9988 - val_precision: 0.9798 - val_recall: 0.9762 - 24s/epoch - 12ms/step\n",
            "Epoch 13/15\n",
            "1931/1931 - 24s - loss: 0.0629 - acc: 0.9811 - auc: 0.9992 - precision: 0.9828 - recall: 0.9796 - val_loss: 0.0737 - val_acc: 0.9784 - val_auc: 0.9989 - val_precision: 0.9803 - val_recall: 0.9768 - 24s/epoch - 13ms/step\n",
            "Epoch 14/15\n",
            "1931/1931 - 24s - loss: 0.0585 - acc: 0.9824 - auc: 0.9993 - precision: 0.9839 - recall: 0.9810 - val_loss: 0.0713 - val_acc: 0.9795 - val_auc: 0.9988 - val_precision: 0.9811 - val_recall: 0.9781 - 24s/epoch - 12ms/step\n",
            "Epoch 15/15\n",
            "1931/1931 - 24s - loss: 0.0601 - acc: 0.9821 - auc: 0.9992 - precision: 0.9836 - recall: 0.9807 - val_loss: 0.0782 - val_acc: 0.9782 - val_auc: 0.9985 - val_precision: 0.9800 - val_recall: 0.9767 - 24s/epoch - 13ms/step\n"
          ]
        },
        {
          "output_type": "execute_result",
          "data": {
            "text/plain": [
              "<keras.callbacks.History at 0x7f4c08014d60>"
            ]
          },
          "metadata": {},
          "execution_count": 28
        }
      ],
      "source": [
        "#Test Your Zaka\n",
        "import tensorflow as tf\n",
        "model2.compile(optimizer='adam', loss=\"categorical_crossentropy\", metrics=[\"acc\", 'AUC' ,tf.keras.metrics.Precision(), tf.keras.metrics.Recall()])\n",
        "model2.fit(x_train,y_train_encoded,validation_data=[x_test,y_test_encoded],epochs=15,batch_size=50,verbose=2)"
      ]
    },
    {
      "cell_type": "markdown",
      "source": [
        "Define a new function that relies on your new model to make predictions."
      ],
      "metadata": {
        "id": "CkpOI2JI0GBx"
      }
    },
    {
      "cell_type": "code",
      "execution_count": null,
      "metadata": {
        "id": "Gulu8OiXTbae"
      },
      "outputs": [],
      "source": [
        "#Test Your Zaka\n",
        "def translator_2(input):\n",
        "  words = input.split()\n",
        "  encoded_sentence = [eng_tokenizer.word_index[word] for word in words]\n",
        "  padded = pad_sequences([encoded_sentence], maxlen=max_en, padding='post')\n",
        "\n",
        "  pred = model2.predict(padded)\n",
        "\n",
        "  encoded_output = []\n",
        "  for i in range(len(words)):\n",
        "    encoded_output.append(np.argmax(pred[0][i]))\n",
        "\n",
        "  result=[fr_tokenizer.index_word[index] for index in encoded_output]\n",
        "  translation= print(' '.join(result))\n",
        "\n",
        "  return translation"
      ]
    },
    {
      "cell_type": "code",
      "source": [
        "input = \"she is driving the truck\"\n",
        "\n",
        "#Test Your Zaka\n",
        "translator_2(input)"
      ],
      "metadata": {
        "id": "8CO0pO6-UAeE",
        "colab": {
          "base_uri": "https://localhost:8080/"
        },
        "outputId": "7734bd21-f3dd-4997-c6d7-8151861d4b01"
      },
      "execution_count": null,
      "outputs": [
        {
          "output_type": "stream",
          "name": "stdout",
          "text": [
            "1/1 [==============================] - 0s 77ms/step\n",
            "elle conduit le camion bleu\n"
          ]
        }
      ]
    },
    {
      "cell_type": "markdown",
      "source": [
        "**What is another adjustment in terms of architecture that you might be able to do to improve your model?**"
      ],
      "metadata": {
        "id": "YGeXrjqbZen7"
      }
    },
    {
      "cell_type": "markdown",
      "source": [
        "[Share Your Zaka]\n",
        "\n",
        "We can increase the depth of our model by adding more layers(\n",
        "allowing it to capture complex patterns and representations)\n",
        "We can implement attention mechanisms that help the model focus on relevant parts of the input sequence(which improving translation quality)\n",
        "We can explore transformer architectures, which utilize self-attention mechanisms and multi-head attention(it has shown great success in machine translation tasks)\n",
        "Another adjustment is to incorporate residual connections, which enable better gradient flow and mitigate the vanishing gradient problem commonly faced by deep neural networks"
      ],
      "metadata": {
        "id": "bekjOkjbZlBf"
      }
    },
    {
      "cell_type": "markdown",
      "source": [
        "**What are some additional ways that we can do to improve the performance of our model?**"
      ],
      "metadata": {
        "id": "pnIN2lD2tn05"
      }
    },
    {
      "cell_type": "markdown",
      "source": [
        "[Share Your Zaka]\n",
        "\n",
        "we may consider having a character-by-character tokenization which provides the model with more fine-grained information about the structure of the words and may help capture subtle linguistic patterns that could be missed when tokenizing at the word level.\n",
        "And of course we can use all the previous improvement techniques we learned:\n",
        "\n",
        "1)data augmentation techniques to increase data diversity..\n",
        "2)regularization methods like dropout and early stopping to prevent overfitting..  \n",
        "3)hyperparameter tuning to optimize model settings..  \n",
        "4)ensemble models to combine predictions from multiple models\n",
        "5)transfer learning to leverage pre-trained models.\n"
      ],
      "metadata": {
        "id": "s7_MCCbQt3uq"
      }
    }
  ],
  "metadata": {
    "colab": {
      "provenance": [],
      "gpuType": "T4"
    },
    "kernelspec": {
      "display_name": "Python 3",
      "name": "python3"
    },
    "language_info": {
      "name": "python"
    },
    "accelerator": "GPU"
  },
  "nbformat": 4,
  "nbformat_minor": 0
}